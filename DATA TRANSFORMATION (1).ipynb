{
 "cells": [
  {
   "cell_type": "code",
   "execution_count": 0,
   "metadata": {
    "application/vnd.databricks.v1+cell": {
     "cellMetadata": {
      "byteLimit": 2048000,
      "rowLimit": 10000
     },
     "inputWidgets": {},
     "nuid": "dc09dfbd-e997-453d-9992-24346a73fdba",
     "showTitle": false,
     "title": ""
    }
   },
   "outputs": [
    {
     "output_type": "stream",
     "name": "stdout",
     "output_type": "stream",
     "text": [
      "/mnt/exporteddatast has been unmounted.\n"
     ]
    },
    {
     "output_type": "execute_result",
     "data": {
      "text/plain": [
       "True"
      ]
     },
     "execution_count": 24,
     "metadata": {},
     "output_type": "execute_result"
    }
   ],
   "source": [
    "configs = {\"fs.azure.account.auth.type\": \"OAuth\",\n",
    "\"fs.azure.account.oauth.provider.type\": \"org.apache.hadoop.fs.azurebfs.oauth2.ClientCredsTokenProvider\",\n",
    "\"fs.azure.account.oauth2.client.id\": \"client.id\",\n",
    "\"fs.azure.account.oauth2.client.secret\": 'secret',\n",
    "\"fs.azure.account.oauth2.client.endpoint\": \"https://login.microsoftonline.com/-----/oauth2/token\"}\n",
    "\n",
    "dbutils.fs.unmount(\"/mnt/exporteddatast\")\n",
    "# Optionally, you can add <directory-name> to the source URI of your mount point.\n",
    "dbutils.fs.mount(\n",
    "  source = \"abfss://exporteddata@projectstorageaccount099.dfs.core.windows.net/\",\n",
    "  mount_point = \"/mnt/exporteddatast\",\n",
    "  extra_configs = configs)  "
   ]
  },
  {
   "cell_type": "code",
   "execution_count": 0,
   "metadata": {
    "application/vnd.databricks.v1+cell": {
     "cellMetadata": {
      "byteLimit": 2048000,
      "rowLimit": 10000
     },
     "inputWidgets": {},
     "nuid": "46220748-e265-4226-8fa6-01c86b7febe8",
     "showTitle": false,
     "title": ""
    }
   },
   "outputs": [
    {
     "output_type": "execute_result",
     "data": {
      "text/plain": [
       "[FileInfo(path='dbfs:/mnt/exporteddatast/dbo/', name='dbo/', size=0, modificationTime=1726880526000),\n",
       " FileInfo(path='dbfs:/mnt/exporteddatast/output/', name='output/', size=0, modificationTime=1726963584000)]"
      ]
     },
     "execution_count": 8,
     "metadata": {},
     "output_type": "execute_result"
    }
   ],
   "source": [
    "dbutils.fs.ls(\"/mnt/exporteddatast/\")\n"
   ]
  },
  {
   "cell_type": "code",
   "execution_count": 0,
   "metadata": {
    "application/vnd.databricks.v1+cell": {
     "cellMetadata": {
      "byteLimit": 2048000,
      "rowLimit": 10000
     },
     "inputWidgets": {},
     "nuid": "731e9ba7-85ea-4cc2-8c72-a60456a21f06",
     "showTitle": false,
     "title": ""
    }
   },
   "outputs": [],
   "source": [
    "cars_df = spark.read.format(\"parquet\").load(\"/mnt/exporteddata/dbo/Cars\")\n",
    "countries_df = spark.read.format(\"parquet\").load(\"/mnt/exporteddata/dbo/Countries\")\n",
    "movies_df = spark.read.format(\"parquet\").load(\"/mnt/exporteddata/dbo/Movies\")\n",
    "                                        \n",
    "\n"
   ]
  },
  {
   "cell_type": "code",
   "execution_count": 0,
   "metadata": {
    "application/vnd.databricks.v1+cell": {
     "cellMetadata": {
      "byteLimit": 2048000,
      "rowLimit": 10000
     },
     "inputWidgets": {},
     "nuid": "f4e56f51-d531-4f03-a4b1-c998baeb3bb2",
     "showTitle": false,
     "title": ""
    }
   },
   "outputs": [
    {
     "output_type": "display_data",
     "data": {
      "text/html": [
       "<style scoped>\n",
       "  .table-result-container {\n",
       "    max-height: 300px;\n",
       "    overflow: auto;\n",
       "  }\n",
       "  table, th, td {\n",
       "    border: 1px solid black;\n",
       "    border-collapse: collapse;\n",
       "  }\n",
       "  th, td {\n",
       "    padding: 5px;\n",
       "  }\n",
       "  th {\n",
       "    text-align: left;\n",
       "  }\n",
       "</style><div class='table-result-container'><table class='table-result'><thead style='background-color: white'><tr><th>ID</th><th>Name</th><th>Model</th><th>Length</th></tr></thead><tbody><tr><td>1</td><td>Acura</td><td>MDX</td><td>4451</td></tr><tr><td>2</td><td>Acura</td><td>RSX Type S 2dr</td><td>2778</td></tr><tr><td>3</td><td>Acura</td><td>TSX 4dr</td><td>3230</td></tr><tr><td>4</td><td>Acura</td><td>TL 4dr</td><td>3575</td></tr><tr><td>5</td><td>Acura</td><td>3.5 RL 4dr</td><td>3880</td></tr><tr><td>6</td><td>Acura</td><td>3.5 RL w/Navigation 4dr</td><td>3893</td></tr><tr><td>7</td><td>Acura</td><td>NSX coupe 2dr manual S</td><td>3153</td></tr><tr><td>8</td><td>Audi</td><td>A4 1.8T 4dr</td><td>3252</td></tr><tr><td>9</td><td>Audi</td><td>A41.8T convertible 2dr</td><td>3638</td></tr><tr><td>10</td><td>Audi</td><td>A4 3.0 4dr</td><td>3462</td></tr><tr><td>11</td><td>Audi</td><td>A4 3.0 Quattro 4dr manual</td><td>3583</td></tr><tr><td>12</td><td>Audi</td><td>A4 3.0 Quattro 4dr auto</td><td>3627</td></tr><tr><td>13</td><td>Audi</td><td>A6 3.0 4dr</td><td>3561</td></tr><tr><td>14</td><td>Audi</td><td>A6 3.0 Quattro 4dr</td><td>3880</td></tr><tr><td>15</td><td>Audi</td><td>A4 3.0 convertible 2dr</td><td>3814</td></tr><tr><td>16</td><td>Audi</td><td>A4 3.0 Quattro convertible 2dr</td><td>4013</td></tr><tr><td>17</td><td>Audi</td><td>A6 2.7 Turbo Quattro 4dr</td><td>3836</td></tr><tr><td>18</td><td>Audi</td><td>A6 4.2 Quattro 4dr</td><td>4024</td></tr><tr><td>19</td><td>Audi</td><td>A8 L Quattro 4dr</td><td>4399</td></tr><tr><td>20</td><td>Audi</td><td>S4 Quattro 4dr</td><td>3825</td></tr><tr><td>21</td><td>Audi</td><td>RS 6 4dr</td><td>4024</td></tr><tr><td>22</td><td>Audi</td><td>TT 1.8 convertible 2dr (coupe)</td><td>3131</td></tr><tr><td>23</td><td>Audi</td><td>TT 1.8 Quattro 2dr (convertible)</td><td>2921</td></tr><tr><td>24</td><td>Audi</td><td>TT 3.2 coupe 2dr (convertible)</td><td>3351</td></tr><tr><td>25</td><td>Audi</td><td>A6 3.0 Avant Quattro</td><td>4035</td></tr><tr><td>26</td><td>Audi</td><td>S4 Avant Quattro</td><td>3936</td></tr><tr><td>27</td><td>BMW</td><td>X3 3.0i</td><td>4023</td></tr><tr><td>28</td><td>BMW</td><td>X5 4.4i</td><td>4824</td></tr><tr><td>29</td><td>BMW</td><td>325i 4dr</td><td>3219</td></tr><tr><td>30</td><td>BMW</td><td>325Ci 2dr</td><td>3197</td></tr><tr><td>31</td><td>BMW</td><td>325Ci convertible 2dr</td><td>3560</td></tr><tr><td>32</td><td>BMW</td><td>325xi 4dr</td><td>3461</td></tr><tr><td>33</td><td>BMW</td><td>330i 4dr</td><td>3285</td></tr><tr><td>34</td><td>BMW</td><td>330Ci 2dr</td><td>3285</td></tr><tr><td>35</td><td>BMW</td><td>330xi 4dr</td><td>3483</td></tr><tr><td>36</td><td>BMW</td><td>525i 4dr</td><td>3428</td></tr><tr><td>37</td><td>BMW</td><td>330Ci convertible 2dr</td><td>3616</td></tr><tr><td>38</td><td>BMW</td><td>530i 4dr</td><td>3472</td></tr><tr><td>39</td><td>BMW</td><td>545iA 4dr</td><td>3814</td></tr><tr><td>40</td><td>BMW</td><td>745i 4dr</td><td>4376</td></tr><tr><td>41</td><td>BMW</td><td>745Li 4dr</td><td>4464</td></tr><tr><td>42</td><td>BMW</td><td>M3 coupe 2dr</td><td>3415</td></tr><tr><td>43</td><td>BMW</td><td>M3 convertible 2dr</td><td>3781</td></tr><tr><td>44</td><td>BMW</td><td>Z4 convertible 2.5i 2dr</td><td>2932</td></tr><tr><td>45</td><td>BMW</td><td>Z4 convertible 3.0i 2dr</td><td>2998</td></tr><tr><td>46</td><td>BMW</td><td>325xi Sport</td><td>3594</td></tr><tr><td>47</td><td>Buick</td><td>Rainier</td><td>4600</td></tr><tr><td>48</td><td>Buick</td><td>Rendezvous CX</td><td>4024</td></tr><tr><td>49</td><td>Buick</td><td>Century Custom 4dr</td><td>3353</td></tr><tr><td>50</td><td>Buick</td><td>LeSabre Custom 4dr</td><td>3567</td></tr><tr><td>51</td><td>Buick</td><td>Regal LS 4dr</td><td>3461</td></tr><tr><td>52</td><td>Buick</td><td>Regal GS 4dr</td><td>3536</td></tr><tr><td>53</td><td>Buick</td><td>LeSabre Limited 4dr</td><td>3591</td></tr><tr><td>54</td><td>Buick</td><td>Park Avenue 4dr</td><td>3778</td></tr><tr><td>55</td><td>Buick</td><td>Park Avenue Ultra 4dr</td><td>3909</td></tr><tr><td>56</td><td>Cadillac</td><td>Escalade</td><td>5367</td></tr><tr><td>57</td><td>Cadillac</td><td>SRX V8</td><td>4302</td></tr><tr><td>58</td><td>Cadillac</td><td>CTS VVT 4dr</td><td>3694</td></tr><tr><td>59</td><td>Cadillac</td><td>Deville 4dr</td><td>3984</td></tr><tr><td>60</td><td>Cadillac</td><td>Deville DTS 4dr</td><td>4044</td></tr><tr><td>61</td><td>Cadillac</td><td>Seville SLS 4dr</td><td>3992</td></tr><tr><td>62</td><td>Cadillac</td><td>XLR convertible 2dr</td><td>3647</td></tr><tr><td>63</td><td>Cadillac</td><td>Escalade EXT</td><td>5879</td></tr><tr><td>64</td><td>Chevrolet</td><td>Suburban 1500 LT</td><td>4947</td></tr><tr><td>65</td><td>Chevrolet</td><td>Tahoe LT</td><td>5050</td></tr><tr><td>66</td><td>Chevrolet</td><td>TrailBlazer LT</td><td>4425</td></tr><tr><td>67</td><td>Chevrolet</td><td>Tracker</td><td>2866</td></tr><tr><td>68</td><td>Chevrolet</td><td>Aveo 4dr</td><td>2370</td></tr><tr><td>69</td><td>Chevrolet</td><td>Aveo LS 4dr hatch</td><td>2348</td></tr><tr><td>70</td><td>Chevrolet</td><td>Cavalier 2dr</td><td>2617</td></tr><tr><td>71</td><td>Chevrolet</td><td>Cavalier 4dr</td><td>2676</td></tr><tr><td>72</td><td>Chevrolet</td><td>Cavalier LS 2dr</td><td>2617</td></tr><tr><td>73</td><td>Chevrolet</td><td>Impala 4dr</td><td>3465</td></tr><tr><td>74</td><td>Chevrolet</td><td>Malibu 4dr</td><td>3174</td></tr><tr><td>75</td><td>Chevrolet</td><td>Malibu LS 4dr</td><td>3297</td></tr><tr><td>76</td><td>Chevrolet</td><td>Monte Carlo LS 2dr</td><td>3340</td></tr><tr><td>77</td><td>Chevrolet</td><td>Impala LS 4dr</td><td>3476</td></tr><tr><td>78</td><td>Chevrolet</td><td>Impala SS 4dr</td><td>3606</td></tr><tr><td>79</td><td>Chevrolet</td><td>Malibu LT 4dr</td><td>3315</td></tr><tr><td>80</td><td>Chevrolet</td><td>Monte Carlo SS 2dr</td><td>3434</td></tr><tr><td>81</td><td>Chevrolet</td><td>Astro</td><td>4605</td></tr><tr><td>82</td><td>Chevrolet</td><td>Venture LS</td><td>3699</td></tr><tr><td>83</td><td>Chevrolet</td><td>Corvette 2dr</td><td>3246</td></tr><tr><td>84</td><td>Chevrolet</td><td>Corvette convertible 2dr</td><td>3248</td></tr><tr><td>85</td><td>Chevrolet</td><td>Avalanche 1500</td><td>5678</td></tr><tr><td>86</td><td>Chevrolet</td><td>Colorado Z85</td><td>3623</td></tr><tr><td>87</td><td>Chevrolet</td><td>Silverado 1500 Regular Cab</td><td>4142</td></tr><tr><td>88</td><td>Chevrolet</td><td>Silverado SS</td><td>4804</td></tr><tr><td>89</td><td>Chevrolet</td><td>SSR</td><td>4760</td></tr><tr><td>90</td><td>Chevrolet</td><td>Malibu Maxx LS</td><td>3458</td></tr><tr><td>91</td><td>Chrysler</td><td>PT Cruiser 4dr</td><td>3101</td></tr><tr><td>92</td><td>Chrysler</td><td>PT Cruiser Limited 4dr</td><td>3105</td></tr><tr><td>93</td><td>Chrysler</td><td>Sebring 4dr</td><td>3173</td></tr><tr><td>94</td><td>Chrysler</td><td>Sebring Touring 4dr</td><td>3222</td></tr><tr><td>95</td><td>Chrysler</td><td>300M 4dr</td><td>3581</td></tr><tr><td>96</td><td>Chrysler</td><td>Concorde LX 4dr</td><td>3479</td></tr><tr><td>97</td><td>Chrysler</td><td>Concorde LXi 4dr</td><td>3548</td></tr><tr><td>98</td><td>Chrysler</td><td>PT Cruiser GT 4dr</td><td>3217</td></tr><tr><td>99</td><td>Chrysler</td><td>Sebring convertible 2dr</td><td>3357</td></tr><tr><td>100</td><td>Chrysler</td><td>300M Special Edition 4dr</td><td>3650</td></tr><tr><td>101</td><td>Chrysler</td><td>Sebring Limited convertible 2dr</td><td>3448</td></tr><tr><td>102</td><td>Chrysler</td><td>Town and Country LX</td><td>4068</td></tr><tr><td>103</td><td>Chrysler</td><td>Town and Country Limited</td><td>4331</td></tr><tr><td>104</td><td>Chrysler</td><td>Crossfire 2dr</td><td>3060</td></tr><tr><td>105</td><td>Chrysler</td><td>Pacifica</td><td>4675</td></tr><tr><td>106</td><td>Dodge</td><td>Durango SLT</td><td>4987</td></tr><tr><td>107</td><td>Dodge</td><td>Neon SE 4dr</td><td>2581</td></tr><tr><td>108</td><td>Dodge</td><td>Neon SXT 4dr</td><td>2626</td></tr><tr><td>109</td><td>Dodge</td><td>Intrepid SE 4dr</td><td>3469</td></tr><tr><td>110</td><td>Dodge</td><td>Stratus SXT 4dr</td><td>3182</td></tr><tr><td>111</td><td>Dodge</td><td>Stratus SE 4dr</td><td>3175</td></tr><tr><td>112</td><td>Dodge</td><td>Intrepid ES 4dr</td><td>3487</td></tr><tr><td>113</td><td>Dodge</td><td>Caravan SE</td><td>3862</td></tr><tr><td>114</td><td>Dodge</td><td>Grand Caravan SXT</td><td>4440</td></tr><tr><td>115</td><td>Dodge</td><td>Viper SRT-10 convertible 2dr</td><td>3410</td></tr><tr><td>116</td><td>Dodge</td><td>Dakota Regular Cab</td><td>3714</td></tr><tr><td>117</td><td>Dodge</td><td>Dakota Club Cab</td><td>3829</td></tr><tr><td>118</td><td>Dodge</td><td>Ram 1500 Regular Cab ST</td><td>4542</td></tr><tr><td>119</td><td>Ford</td><td>Excursion 6.8 XLT</td><td>7190</td></tr><tr><td>120</td><td>Ford</td><td>Expedition 4.6 XLT</td><td>5000</td></tr><tr><td>121</td><td>Ford</td><td>Explorer XLT V6</td><td>4463</td></tr><tr><td>122</td><td>Ford</td><td>Escape XLS</td><td>3346</td></tr><tr><td>123</td><td>Ford</td><td>Focus ZX3 2dr hatch</td><td>2612</td></tr><tr><td>124</td><td>Ford</td><td>Focus LX 4dr</td><td>2606</td></tr><tr><td>125</td><td>Ford</td><td>Focus SE 4dr</td><td>2606</td></tr><tr><td>126</td><td>Ford</td><td>Focus ZX5 5dr</td><td>2691</td></tr><tr><td>127</td><td>Ford</td><td>Focus SVT 2dr</td><td>2750</td></tr><tr><td>128</td><td>Ford</td><td>Taurus LX 4dr</td><td>3306</td></tr><tr><td>129</td><td>Ford</td><td>Taurus SES Duratec 4dr</td><td>3313</td></tr><tr><td>130</td><td>Ford</td><td>Crown Victoria 4dr</td><td>4057</td></tr><tr><td>131</td><td>Ford</td><td>Crown Victoria LX 4dr</td><td>4057</td></tr><tr><td>132</td><td>Ford</td><td>Crown Victoria LX Sport 4dr</td><td>4057</td></tr><tr><td>133</td><td>Ford</td><td>Freestar SE</td><td>4275</td></tr><tr><td>134</td><td>Ford</td><td>Mustang 2dr (convertible)</td><td>3290</td></tr><tr><td>135</td><td>Ford</td><td>Mustang GT Premium convertible 2dr</td><td>3347</td></tr><tr><td>136</td><td>Ford</td><td>Thunderbird Deluxe convert w/hardtop 2d</td><td>3780</td></tr><tr><td>137</td><td>Ford</td><td>F-150 Regular Cab XL</td><td>4788</td></tr><tr><td>138</td><td>Ford</td><td>F-150 Supercab Lariat</td><td>5464</td></tr><tr><td>139</td><td>Ford</td><td>Ranger 2.3 XL Regular Cab</td><td>3028</td></tr><tr><td>140</td><td>Ford</td><td>Focus ZTW</td><td>2702</td></tr><tr><td>141</td><td>Ford</td><td>Taurus SE</td><td>3497</td></tr><tr><td>142</td><td>GMC</td><td>Envoy XUV SLE</td><td>4945</td></tr><tr><td>143</td><td>GMC</td><td>Yukon 1500 SLE</td><td>5042</td></tr><tr><td>144</td><td>GMC</td><td>Yukon XL 2500 SLT</td><td>6133</td></tr><tr><td>145</td><td>GMC</td><td>Safari SLE</td><td>4309</td></tr><tr><td>146</td><td>GMC</td><td>Canyon Z85 SL Regular Cab</td><td>3351</td></tr><tr><td>147</td><td>GMC</td><td>Sierra Extended Cab 1500</td><td>4548</td></tr><tr><td>148</td><td>GMC</td><td>Sierra HD 2500</td><td>5440</td></tr><tr><td>149</td><td>GMC</td><td>Sonoma Crew Cab</td><td>4083</td></tr><tr><td>150</td><td>Honda</td><td>Civic Hybrid 4dr manual (gas/electric)</td><td>2732</td></tr><tr><td>151</td><td>Honda</td><td>Insight 2dr (gas/electric)</td><td>1850</td></tr><tr><td>152</td><td>Honda</td><td>Pilot LX</td><td>4387</td></tr><tr><td>153</td><td>Honda</td><td>CR-V LX</td><td>3258</td></tr><tr><td>154</td><td>Honda</td><td>Element LX</td><td>3468</td></tr><tr><td>155</td><td>Honda</td><td>Civic DX 2dr</td><td>2432</td></tr><tr><td>156</td><td>Honda</td><td>Civic HX 2dr</td><td>2500</td></tr><tr><td>157</td><td>Honda</td><td>Civic LX 4dr</td><td>2513</td></tr><tr><td>158</td><td>Honda</td><td>Accord LX 2dr</td><td>2994</td></tr><tr><td>159</td><td>Honda</td><td>Accord EX 2dr</td><td>3047</td></tr><tr><td>160</td><td>Honda</td><td>Civic EX 4dr</td><td>2601</td></tr><tr><td>161</td><td>Honda</td><td>Civic Si 2dr hatch</td><td>2782</td></tr><tr><td>162</td><td>Honda</td><td>Accord LX V6 4dr</td><td>3349</td></tr><tr><td>163</td><td>Honda</td><td>Accord EX V6 2dr</td><td>3294</td></tr><tr><td>164</td><td>Honda</td><td>Odyssey LX</td><td>4310</td></tr><tr><td>165</td><td>Honda</td><td>Odyssey EX</td><td>4365</td></tr><tr><td>166</td><td>Honda</td><td>S2000 convertible 2dr</td><td>2835</td></tr><tr><td>167</td><td>Hummer</td><td>H2</td><td>6400</td></tr><tr><td>168</td><td>Hyundai</td><td>Santa Fe GLS</td><td>3549</td></tr><tr><td>169</td><td>Hyundai</td><td>Accent 2dr hatch</td><td>2255</td></tr><tr><td>170</td><td>Hyundai</td><td>Accent GL 4dr</td><td>2290</td></tr><tr><td>171</td><td>Hyundai</td><td>Accent GT 2dr hatch</td><td>2339</td></tr><tr><td>172</td><td>Hyundai</td><td>Elantra GLS 4dr</td><td>2635</td></tr><tr><td>173</td><td>Hyundai</td><td>Elantra GT 4dr</td><td>2635</td></tr><tr><td>174</td><td>Hyundai</td><td>Elantra GT 4dr hatch</td><td>2698</td></tr><tr><td>175</td><td>Hyundai</td><td>Sonata GLS 4dr</td><td>3217</td></tr><tr><td>176</td><td>Hyundai</td><td>Sonata LX 4dr</td><td>3217</td></tr><tr><td>177</td><td>Hyundai</td><td>XG350 4dr</td><td>3651</td></tr><tr><td>178</td><td>Hyundai</td><td>XG350 L 4dr</td><td>3651</td></tr><tr><td>179</td><td>Hyundai</td><td>Tiburon GT V6 2dr</td><td>3023</td></tr><tr><td>180</td><td>Infiniti</td><td>G35 4dr</td><td>3336</td></tr><tr><td>181</td><td>Infiniti</td><td>G35 Sport Coupe 2dr</td><td>3416</td></tr><tr><td>182</td><td>Infiniti</td><td>G35 4dr</td><td>3677</td></tr><tr><td>183</td><td>Infiniti</td><td>I35 4dr</td><td>3306</td></tr><tr><td>184</td><td>Infiniti</td><td>M45 4dr</td><td>3851</td></tr><tr><td>185</td><td>Infiniti</td><td>Q45 Luxury 4dr</td><td>3977</td></tr><tr><td>186</td><td>Infiniti</td><td>FX35</td><td>4056</td></tr><tr><td>187</td><td>Infiniti</td><td>FX45</td><td>4309</td></tr><tr><td>188</td><td>Isuzu</td><td>Ascender S</td><td>4967</td></tr><tr><td>189</td><td>Isuzu</td><td>Rodeo S</td><td>3836</td></tr><tr><td>190</td><td>Jaguar</td><td>X-Type 2.5 4dr</td><td>3428</td></tr><tr><td>191</td><td>Jaguar</td><td>X-Type 3.0 4dr</td><td>3516</td></tr><tr><td>192</td><td>Jaguar</td><td>S-Type 3.0 4dr</td><td>3777</td></tr><tr><td>193</td><td>Jaguar</td><td>S-Type 4.2 4dr</td><td>3874</td></tr><tr><td>194</td><td>Jaguar</td><td>S-Type R 4dr</td><td>4046</td></tr><tr><td>195</td><td>Jaguar</td><td>Vanden Plas 4dr</td><td>3803</td></tr><tr><td>196</td><td>Jaguar</td><td>XJ8 4dr</td><td>3803</td></tr><tr><td>197</td><td>Jaguar</td><td>XJR 4dr</td><td>3948</td></tr><tr><td>198</td><td>Jaguar</td><td>XK8 coupe 2dr</td><td>3779</td></tr><tr><td>199</td><td>Jaguar</td><td>XK8 convertible 2dr</td><td>3980</td></tr><tr><td>200</td><td>Jaguar</td><td>XKR coupe 2dr</td><td>3865</td></tr><tr><td>201</td><td>Jaguar</td><td>XKR convertible 2dr</td><td>4042</td></tr><tr><td>202</td><td>Jeep</td><td>Grand Cherokee Laredo</td><td>3790</td></tr><tr><td>203</td><td>Jeep</td><td>Liberty Sport</td><td>3826</td></tr><tr><td>204</td><td>Jeep</td><td>Wrangler Sahara convertible 2dr</td><td>3575</td></tr><tr><td>205</td><td>Kia</td><td>Sorento LX</td><td>4112</td></tr><tr><td>206</td><td>Kia</td><td>Optima LX 4dr</td><td>3281</td></tr><tr><td>207</td><td>Kia</td><td>Rio 4dr manual</td><td>2403</td></tr><tr><td>208</td><td>Kia</td><td>Rio 4dr auto</td><td>2458</td></tr><tr><td>209</td><td>Kia</td><td>Spectra 4dr</td><td>2661</td></tr><tr><td>210</td><td>Kia</td><td>Spectra GS 4dr hatch</td><td>2686</td></tr><tr><td>211</td><td>Kia</td><td>Spectra GSX 4dr hatch</td><td>2697</td></tr><tr><td>212</td><td>Kia</td><td>Optima LX V6 4dr</td><td>3279</td></tr><tr><td>213</td><td>Kia</td><td>Amanti 4dr</td><td>4021</td></tr><tr><td>214</td><td>Kia</td><td>Sedona LX</td><td>4802</td></tr><tr><td>215</td><td>Kia</td><td>Rio Cinco</td><td>2447</td></tr><tr><td>216</td><td>Land Rover</td><td>Range Rover HSE</td><td>5379</td></tr><tr><td>217</td><td>Land Rover</td><td>Discovery SE</td><td>4576</td></tr><tr><td>218</td><td>Land Rover</td><td>Freelander SE</td><td>3577</td></tr><tr><td>219</td><td>Lexus</td><td>GX 470</td><td>4740</td></tr><tr><td>220</td><td>Lexus</td><td>LX 470</td><td>5590</td></tr><tr><td>221</td><td>Lexus</td><td>RX 330</td><td>4065</td></tr><tr><td>222</td><td>Lexus</td><td>ES 330 4dr</td><td>3460</td></tr><tr><td>223</td><td>Lexus</td><td>IS 300 4dr manual</td><td>3255</td></tr><tr><td>224</td><td>Lexus</td><td>IS 300 4dr auto</td><td>3285</td></tr><tr><td>225</td><td>Lexus</td><td>GS 300 4dr</td><td>3649</td></tr><tr><td>226</td><td>Lexus</td><td>GS 430 4dr</td><td>3715</td></tr><tr><td>227</td><td>Lexus</td><td>LS 430 4dr</td><td>3990</td></tr><tr><td>228</td><td>Lexus</td><td>SC 430 convertible 2dr</td><td>3840</td></tr><tr><td>229</td><td>Lexus</td><td>IS 300 SportCross</td><td>3410</td></tr><tr><td>230</td><td>Lincoln</td><td>Navigator Luxury</td><td>5969</td></tr><tr><td>231</td><td>Lincoln</td><td>Aviator Ultimate</td><td>4834</td></tr><tr><td>232</td><td>Lincoln</td><td>LS V6 Luxury 4dr</td><td>3681</td></tr><tr><td>233</td><td>Lincoln</td><td>LS V6 Premium 4dr</td><td>3681</td></tr><tr><td>234</td><td>Lincoln</td><td>LS V8 Sport 4dr</td><td>3768</td></tr><tr><td>235</td><td>Lincoln</td><td>LS V8 Ultimate 4dr</td><td>3768</td></tr><tr><td>236</td><td>Lincoln</td><td>Town Car Signature 4dr</td><td>4369</td></tr><tr><td>237</td><td>Lincoln</td><td>Town Car Ultimate 4dr</td><td>4369</td></tr><tr><td>238</td><td>Lincoln</td><td>Town Car Ultimate L 4dr</td><td>4474</td></tr><tr><td>239</td><td>MINI</td><td>Cooper</td><td>2524</td></tr><tr><td>240</td><td>MINI</td><td>Cooper S</td><td>2678</td></tr><tr><td>241</td><td>Mazda</td><td>Tribute DX 2.0</td><td>3091</td></tr><tr><td>242</td><td>Mazda</td><td>Mazda3 i 4dr</td><td>2696</td></tr><tr><td>243</td><td>Mazda</td><td>Mazda3 s 4dr</td><td>2762</td></tr><tr><td>244</td><td>Mazda</td><td>Mazda6 i 4dr</td><td>3042</td></tr><tr><td>245</td><td>Mazda</td><td>MPV ES</td><td>3812</td></tr><tr><td>246</td><td>Mazda</td><td>MX-5 Miata convertible 2dr</td><td>2387</td></tr><tr><td>247</td><td>Mazda</td><td>MX-5 Miata LS convertible 2dr</td><td>2387</td></tr><tr><td>248</td><td>Mazda</td><td>RX-8 4dr automatic</td><td>3053</td></tr><tr><td>249</td><td>Mazda</td><td>RX-8 4dr manual</td><td>3029</td></tr><tr><td>250</td><td>Mazda</td><td>B2300 SX Regular Cab</td><td>2960</td></tr><tr><td>251</td><td>Mazda</td><td>B4000 SE Cab Plus</td><td>3571</td></tr><tr><td>252</td><td>Mercedes-Benz</td><td>G500</td><td>5423</td></tr><tr><td>253</td><td>Mercedes-Benz</td><td>ML500</td><td>4874</td></tr><tr><td>254</td><td>Mercedes-Benz</td><td>C230 Sport 2dr</td><td>3250</td></tr><tr><td>255</td><td>Mercedes-Benz</td><td>C320 Sport 2dr</td><td>3430</td></tr><tr><td>256</td><td>Mercedes-Benz</td><td>C240 4dr</td><td>3360</td></tr><tr><td>257</td><td>Mercedes-Benz</td><td>C240 4dr</td><td>3360</td></tr><tr><td>258</td><td>Mercedes-Benz</td><td>C320 Sport 4dr</td><td>3430</td></tr><tr><td>259</td><td>Mercedes-Benz</td><td>C320 4dr</td><td>3450</td></tr><tr><td>260</td><td>Mercedes-Benz</td><td>C320 4dr</td><td>3450</td></tr><tr><td>261</td><td>Mercedes-Benz</td><td>C32 AMG 4dr</td><td>3540</td></tr><tr><td>262</td><td>Mercedes-Benz</td><td>CL500 2dr</td><td>4085</td></tr><tr><td>263</td><td>Mercedes-Benz</td><td>CL600 2dr</td><td>4473</td></tr><tr><td>264</td><td>Mercedes-Benz</td><td>CLK320 coupe 2dr (convertible)</td><td>3770</td></tr><tr><td>265</td><td>Mercedes-Benz</td><td>CLK500 coupe 2dr (convertible)</td><td>3585</td></tr><tr><td>266</td><td>Mercedes-Benz</td><td>E320 4dr</td><td>3635</td></tr><tr><td>267</td><td>Mercedes-Benz</td><td>E500 4dr</td><td>3815</td></tr><tr><td>268</td><td>Mercedes-Benz</td><td>S430 4dr</td><td>4160</td></tr><tr><td>269</td><td>Mercedes-Benz</td><td>S500 4dr</td><td>4390</td></tr><tr><td>270</td><td>Mercedes-Benz</td><td>SL500 convertible 2dr</td><td>4065</td></tr><tr><td>271</td><td>Mercedes-Benz</td><td>SL55 AMG 2dr</td><td>4235</td></tr><tr><td>272</td><td>Mercedes-Benz</td><td>SL600 convertible 2dr</td><td>4429</td></tr><tr><td>273</td><td>Mercedes-Benz</td><td>SLK230 convertible 2dr</td><td>3055</td></tr><tr><td>274</td><td>Mercedes-Benz</td><td>SLK32 AMG 2dr</td><td>3220</td></tr><tr><td>275</td><td>Mercedes-Benz</td><td>C240</td><td>3470</td></tr><tr><td>276</td><td>Mercedes-Benz</td><td>E320</td><td>3966</td></tr><tr><td>277</td><td>Mercedes-Benz</td><td>E500</td><td>4230</td></tr><tr><td>278</td><td>Mercury</td><td>Mountaineer</td><td>4374</td></tr><tr><td>279</td><td>Mercury</td><td>Sable GS 4dr</td><td>3308</td></tr><tr><td>280</td><td>Mercury</td><td>Grand Marquis GS 4dr</td><td>4052</td></tr><tr><td>281</td><td>Mercury</td><td>Grand Marquis LS Premium 4dr</td><td>4052</td></tr><tr><td>282</td><td>Mercury</td><td>Sable LS Premium 4dr</td><td>3315</td></tr><tr><td>283</td><td>Mercury</td><td>Grand Marquis LS Ultimate 4dr</td><td>4052</td></tr><tr><td>284</td><td>Mercury</td><td>Marauder 4dr</td><td>4195</td></tr><tr><td>285</td><td>Mercury</td><td>Monterey Luxury</td><td>4340</td></tr><tr><td>286</td><td>Mercury</td><td>Sable GS</td><td>3488</td></tr><tr><td>287</td><td>Mitsubishi</td><td>Endeavor XLS</td><td>4134</td></tr><tr><td>288</td><td>Mitsubishi</td><td>Montero XLS</td><td>4718</td></tr><tr><td>289</td><td>Mitsubishi</td><td>Outlander LS</td><td>3240</td></tr><tr><td>290</td><td>Mitsubishi</td><td>Lancer ES 4dr</td><td>2656</td></tr><tr><td>291</td><td>Mitsubishi</td><td>Lancer LS 4dr</td><td>2795</td></tr><tr><td>292</td><td>Mitsubishi</td><td>Galant ES 2.4L 4dr</td><td>3351</td></tr><tr><td>293</td><td>Mitsubishi</td><td>Lancer OZ Rally 4dr auto</td><td>2744</td></tr><tr><td>294</td><td>Mitsubishi</td><td>Diamante LS 4dr</td><td>3549</td></tr><tr><td>295</td><td>Mitsubishi</td><td>Galant GTS 4dr</td><td>3649</td></tr><tr><td>296</td><td>Mitsubishi</td><td>Eclipse GTS 2dr</td><td>3241</td></tr><tr><td>297</td><td>Mitsubishi</td><td>Eclipse Spyder GT convertible 2dr</td><td>3296</td></tr><tr><td>298</td><td>Mitsubishi</td><td>Lancer Evolution 4dr</td><td>3263</td></tr><tr><td>299</td><td>Mitsubishi</td><td>Lancer Sportback LS</td><td>3020</td></tr><tr><td>300</td><td>Nissan</td><td>Pathfinder Armada SE</td><td>5013</td></tr><tr><td>301</td><td>Nissan</td><td>Pathfinder SE</td><td>3871</td></tr><tr><td>302</td><td>Nissan</td><td>Xterra XE V6</td><td>3760</td></tr><tr><td>303</td><td>Nissan</td><td>Sentra 1.8 4dr</td><td>2513</td></tr><tr><td>304</td><td>Nissan</td><td>Sentra 1.8 S 4dr</td><td>2581</td></tr><tr><td>305</td><td>Nissan</td><td>Altima S 4dr</td><td>3039</td></tr><tr><td>306</td><td>Nissan</td><td>Sentra SE-R 4dr</td><td>2761</td></tr><tr><td>307</td><td>Nissan</td><td>Altima SE 4dr</td><td>3197</td></tr><tr><td>308</td><td>Nissan</td><td>Maxima SE 4dr</td><td>3473</td></tr><tr><td>309</td><td>Nissan</td><td>Maxima SL 4dr</td><td>3476</td></tr><tr><td>310</td><td>Nissan</td><td>Quest S</td><td>4012</td></tr><tr><td>311</td><td>Nissan</td><td>Quest SE</td><td>4175</td></tr><tr><td>312</td><td>Nissan</td><td>350Z coupe 2dr</td><td>3188</td></tr><tr><td>313</td><td>Nissan</td><td>350Z Enthusiast convertible 2dr</td><td>3428</td></tr><tr><td>314</td><td>Nissan</td><td>Frontier King Cab XE V6</td><td>3932</td></tr><tr><td>315</td><td>Nissan</td><td>Titan King Cab XE</td><td>5287</td></tr><tr><td>316</td><td>Nissan</td><td>Murano SL</td><td>3801</td></tr><tr><td>317</td><td>Oldsmobile</td><td>Alero GX 2dr</td><td>2946</td></tr><tr><td>318</td><td>Oldsmobile</td><td>Alero GLS 2dr</td><td>3085</td></tr><tr><td>319</td><td>Oldsmobile</td><td>Silhouette GL</td><td>3948</td></tr><tr><td>320</td><td>Pontiac</td><td>Aztekt</td><td>3779</td></tr><tr><td>321</td><td>Pontiac</td><td>Sunfire 1SA 2dr</td><td>2771</td></tr><tr><td>322</td><td>Pontiac</td><td>Grand Am GT 2dr</td><td>3118</td></tr><tr><td>323</td><td>Pontiac</td><td>Grand Prix GT1 4dr</td><td>3477</td></tr><tr><td>324</td><td>Pontiac</td><td>Sunfire 1SC 2dr</td><td>2771</td></tr><tr><td>325</td><td>Pontiac</td><td>Grand Prix GT2 4dr</td><td>3484</td></tr><tr><td>326</td><td>Pontiac</td><td>Bonneville GXP 4dr</td><td>3790</td></tr><tr><td>327</td><td>Pontiac</td><td>Montana</td><td>3803</td></tr><tr><td>328</td><td>Pontiac</td><td>Montana EWB</td><td>4431</td></tr><tr><td>329</td><td>Pontiac</td><td>GTO 2dr</td><td>3725</td></tr><tr><td>330</td><td>Pontiac</td><td>Vibe</td><td>2701</td></tr><tr><td>331</td><td>Porsche</td><td>Cayenne S</td><td>4950</td></tr><tr><td>332</td><td>Porsche</td><td>911 Carrera convertible 2dr (coupe)</td><td>3135</td></tr><tr><td>333</td><td>Porsche</td><td>911 Carrera 4S coupe 2dr (convert)</td><td>3240</td></tr><tr><td>334</td><td>Porsche</td><td>911 Targa coupe 2dr</td><td>3119</td></tr><tr><td>335</td><td>Porsche</td><td>911 GT2 2dr</td><td>3131</td></tr><tr><td>336</td><td>Porsche</td><td>Boxster convertible 2dr</td><td>2811</td></tr><tr><td>337</td><td>Porsche</td><td>Boxster S convertible 2dr</td><td>2911</td></tr><tr><td>338</td><td>Saab</td><td>9-3 Arc Sport 4dr</td><td>3175</td></tr><tr><td>339</td><td>Saab</td><td>9-3 Aero 4dr</td><td>3175</td></tr><tr><td>340</td><td>Saab</td><td>9-5 Arc 4dr</td><td>3470</td></tr><tr><td>341</td><td>Saab</td><td>9-5 Aero 4dr</td><td>3470</td></tr><tr><td>342</td><td>Saab</td><td>9-3 Arc convertible 2dr</td><td>3480</td></tr><tr><td>343</td><td>Saab</td><td>9-3 Aero convertible 2dr</td><td>3700</td></tr><tr><td>344</td><td>Saab</td><td>9-5 Aero</td><td>3620</td></tr><tr><td>345</td><td>Saturn</td><td>VUE</td><td>3381</td></tr><tr><td>346</td><td>Saturn</td><td>Ion1 4dr</td><td>2692</td></tr><tr><td>347</td><td>Saturn</td><td>lon2 4dr</td><td>2692</td></tr><tr><td>348</td><td>Saturn</td><td>lon3 4dr</td><td>2692</td></tr><tr><td>349</td><td>Saturn</td><td>lon2 quad coupe 2dr</td><td>2751</td></tr><tr><td>350</td><td>Saturn</td><td>lon3 quad coupe 2dr</td><td>2751</td></tr><tr><td>351</td><td>Saturn</td><td>L300-2 4dr</td><td>3197</td></tr><tr><td>352</td><td>Saturn</td><td>L300 2</td><td>3109</td></tr><tr><td>353</td><td>Scion</td><td>xA 4dr hatch</td><td>2340</td></tr><tr><td>354</td><td>Scion</td><td>xB</td><td>2425</td></tr><tr><td>355</td><td>Subaru</td><td>Impreza 2.5 RS 4dr</td><td>2965</td></tr><tr><td>356</td><td>Subaru</td><td>Legacy L 4dr</td><td>3285</td></tr><tr><td>357</td><td>Subaru</td><td>Legacy GT 4dr</td><td>3395</td></tr><tr><td>358</td><td>Subaru</td><td>Outback Limited Sedan 4dr</td><td>3495</td></tr><tr><td>359</td><td>Subaru</td><td>Outback H6 4dr</td><td>3610</td></tr><tr><td>360</td><td>Subaru</td><td>Outback H-6 VDC 4dr</td><td>3630</td></tr><tr><td>361</td><td>Subaru</td><td>Impreza WRX 4dr</td><td>3085</td></tr><tr><td>362</td><td>Subaru</td><td>Impreza WRX STi 4dr</td><td>3263</td></tr><tr><td>363</td><td>Subaru</td><td>Baja</td><td>3485</td></tr><tr><td>364</td><td>Subaru</td><td>Forester X</td><td>3090</td></tr><tr><td>365</td><td>Subaru</td><td>Outback</td><td>3430</td></tr><tr><td>366</td><td>Suzuki</td><td>XL-7 EX</td><td>3682</td></tr><tr><td>367</td><td>Suzuki</td><td>Vitara LX</td><td>3020</td></tr><tr><td>368</td><td>Suzuki</td><td>Aeno S 4dr</td><td>2676</td></tr><tr><td>369</td><td>Suzuki</td><td>Aerio LX 4dr</td><td>2676</td></tr><tr><td>370</td><td>Suzuki</td><td>Forenza S 4dr</td><td>2701</td></tr><tr><td>371</td><td>Suzuki</td><td>Forenza EX 4dr</td><td>2756</td></tr><tr><td>372</td><td>Suzuki</td><td>Verona LX 4dr</td><td>3380</td></tr><tr><td>373</td><td>Suzuki</td><td>Aerio SX</td><td>2932</td></tr><tr><td>374</td><td>Toyota</td><td>Prius 4dr (gas/electric)</td><td>2890</td></tr><tr><td>375</td><td>Toyota</td><td>Sequoia SR5</td><td>5270</td></tr><tr><td>376</td><td>Toyota</td><td>4Runner SR5 V6</td><td>4035</td></tr><tr><td>377</td><td>Toyota</td><td>Highlander V6</td><td>3935</td></tr><tr><td>378</td><td>Toyota</td><td>Land Cruiser</td><td>5390</td></tr><tr><td>379</td><td>Toyota</td><td>RAV4</td><td>3119</td></tr><tr><td>380</td><td>Toyota</td><td>Corolla CE 4dr</td><td>2502</td></tr><tr><td>381</td><td>Toyota</td><td>Corolla S 4dr</td><td>2524</td></tr><tr><td>382</td><td>Toyota</td><td>Corolla LE 4dr</td><td>2524</td></tr><tr><td>383</td><td>Toyota</td><td>Echo 2dr manual</td><td>2035</td></tr><tr><td>384</td><td>Toyota</td><td>Echo 2dr auto</td><td>2085</td></tr><tr><td>385</td><td>Toyota</td><td>Echo 4dr</td><td>2055</td></tr><tr><td>386</td><td>Toyota</td><td>Camry LE 4dr</td><td>3086</td></tr><tr><td>387</td><td>Toyota</td><td>Camry LE V6 4dr</td><td>3296</td></tr><tr><td>388</td><td>Toyota</td><td>Camry Solara SE 2dr</td><td>3175</td></tr><tr><td>389</td><td>Toyota</td><td>Camry Solara SE V6 2dr</td><td>3417</td></tr><tr><td>390</td><td>Toyota</td><td>Avalon XL 4dr</td><td>3417</td></tr><tr><td>391</td><td>Toyota</td><td>Camry XLE V6 4dr</td><td>3362</td></tr><tr><td>392</td><td>Toyota</td><td>Camry Solara SLE V6 2dr</td><td>3439</td></tr><tr><td>393</td><td>Toyota</td><td>Avalon XLS 4dr</td><td>3439</td></tr><tr><td>394</td><td>Toyota</td><td>Sienna CE</td><td>4120</td></tr><tr><td>395</td><td>Toyota</td><td>Sienna XLE Limited</td><td>4165</td></tr><tr><td>396</td><td>Toyota</td><td>Celica GT-S 2dr</td><td>2500</td></tr><tr><td>397</td><td>Toyota</td><td>MR2 Spyder convertible 2dr</td><td>2195</td></tr><tr><td>398</td><td>Toyota</td><td>Tacoma</td><td>2750</td></tr><tr><td>399</td><td>Toyota</td><td>Tundra Regular Cab V6</td><td>3925</td></tr><tr><td>400</td><td>Toyota</td><td>Tundra Access Cab V6 SR5</td><td>4435</td></tr><tr><td>401</td><td>Toyota</td><td>Matrix XR</td><td>2679</td></tr><tr><td>402</td><td>Volkswagen</td><td>Touareg V6</td><td>5086</td></tr><tr><td>403</td><td>Volkswagen</td><td>Golf GLS 4dr</td><td>2897</td></tr><tr><td>404</td><td>Volkswagen</td><td>GTI 1.8T 2dr hatch</td><td>2934</td></tr><tr><td>405</td><td>Volkswagen</td><td>Jetta GLS TDI 4dr</td><td>3003</td></tr><tr><td>406</td><td>Volkswagen</td><td>New Beetle GLS 1.8T 2dr</td><td>2820</td></tr><tr><td>407</td><td>Volkswagen</td><td>Jetta GLI VR6 4dr</td><td>3179</td></tr><tr><td>408</td><td>Volkswagen</td><td>New Beetle GLS convertible 2dr</td><td>3082</td></tr><tr><td>409</td><td>Volkswagen</td><td>Passat GLS 4dr</td><td>3241</td></tr><tr><td>410</td><td>Volkswagen</td><td>Passat GLX V6 4MOTION 4dr</td><td>3721</td></tr><tr><td>411</td><td>Volkswagen</td><td>Passat W8 4MOTION 4dr</td><td>3953</td></tr><tr><td>412</td><td>Volkswagen</td><td>Phaeton 4dr</td><td>5194</td></tr><tr><td>413</td><td>Volkswagen</td><td>Phaeton W12 4dr</td><td>5399</td></tr><tr><td>414</td><td>Volkswagen</td><td>Jetta GL</td><td>3034</td></tr><tr><td>415</td><td>Volkswagen</td><td>Passat GLS 1.8T</td><td>3338</td></tr><tr><td>416</td><td>Volkswagen</td><td>Passat W8</td><td>4067</td></tr><tr><td>417</td><td>Volvo</td><td>XC90 T6</td><td>4638</td></tr><tr><td>418</td><td>Volvo</td><td>S40 4dr</td><td>2767</td></tr><tr><td>419</td><td>Volvo</td><td>S60 2.5 4dr</td><td>3903</td></tr><tr><td>420</td><td>Volvo</td><td>S60 T5 4dr</td><td>3766</td></tr><tr><td>421</td><td>Volvo</td><td>S60 R 4dr</td><td>3571</td></tr><tr><td>422</td><td>Volvo</td><td>S80 2.9 4dr</td><td>3576</td></tr><tr><td>423</td><td>Volvo</td><td>S80 2.5T 4dr</td><td>3691</td></tr><tr><td>424</td><td>Volvo</td><td>C70 LPT convertible 2dr</td><td>3450</td></tr><tr><td>425</td><td>Volvo</td><td>C70 HPT convertible 2dr</td><td>3450</td></tr><tr><td>426</td><td>Volvo</td><td>S80 T6 4dr</td><td>3653</td></tr><tr><td>427</td><td>Volvo</td><td>V40</td><td>2822</td></tr><tr><td>428</td><td>Volvo</td><td>XC70</td><td>3823</td></tr></tbody></table></div>"
      ]
     },
     "metadata": {
      "application/vnd.databricks.v1+output": {
       "addedWidgets": {},
       "aggData": [],
       "aggError": "",
       "aggOverflow": false,
       "aggSchema": [],
       "aggSeriesLimitReached": false,
       "aggType": "",
       "arguments": {},
       "columnCustomDisplayInfos": {},
       "data": [
        [
         1,
         "Acura",
         "MDX",
         4451
        ],
        [
         2,
         "Acura",
         "RSX Type S 2dr",
         2778
        ],
        [
         3,
         "Acura",
         "TSX 4dr",
         3230
        ],
        [
         4,
         "Acura",
         "TL 4dr",
         3575
        ],
        [
         5,
         "Acura",
         "3.5 RL 4dr",
         3880
        ],
        [
         6,
         "Acura",
         "3.5 RL w/Navigation 4dr",
         3893
        ],
        [
         7,
         "Acura",
         "NSX coupe 2dr manual S",
         3153
        ],
        [
         8,
         "Audi",
         "A4 1.8T 4dr",
         3252
        ],
        [
         9,
         "Audi",
         "A41.8T convertible 2dr",
         3638
        ],
        [
         10,
         "Audi",
         "A4 3.0 4dr",
         3462
        ],
        [
         11,
         "Audi",
         "A4 3.0 Quattro 4dr manual",
         3583
        ],
        [
         12,
         "Audi",
         "A4 3.0 Quattro 4dr auto",
         3627
        ],
        [
         13,
         "Audi",
         "A6 3.0 4dr",
         3561
        ],
        [
         14,
         "Audi",
         "A6 3.0 Quattro 4dr",
         3880
        ],
        [
         15,
         "Audi",
         "A4 3.0 convertible 2dr",
         3814
        ],
        [
         16,
         "Audi",
         "A4 3.0 Quattro convertible 2dr",
         4013
        ],
        [
         17,
         "Audi",
         "A6 2.7 Turbo Quattro 4dr",
         3836
        ],
        [
         18,
         "Audi",
         "A6 4.2 Quattro 4dr",
         4024
        ],
        [
         19,
         "Audi",
         "A8 L Quattro 4dr",
         4399
        ],
        [
         20,
         "Audi",
         "S4 Quattro 4dr",
         3825
        ],
        [
         21,
         "Audi",
         "RS 6 4dr",
         4024
        ],
        [
         22,
         "Audi",
         "TT 1.8 convertible 2dr (coupe)",
         3131
        ],
        [
         23,
         "Audi",
         "TT 1.8 Quattro 2dr (convertible)",
         2921
        ],
        [
         24,
         "Audi",
         "TT 3.2 coupe 2dr (convertible)",
         3351
        ],
        [
         25,
         "Audi",
         "A6 3.0 Avant Quattro",
         4035
        ],
        [
         26,
         "Audi",
         "S4 Avant Quattro",
         3936
        ],
        [
         27,
         "BMW",
         "X3 3.0i",
         4023
        ],
        [
         28,
         "BMW",
         "X5 4.4i",
         4824
        ],
        [
         29,
         "BMW",
         "325i 4dr",
         3219
        ],
        [
         30,
         "BMW",
         "325Ci 2dr",
         3197
        ],
        [
         31,
         "BMW",
         "325Ci convertible 2dr",
         3560
        ],
        [
         32,
         "BMW",
         "325xi 4dr",
         3461
        ],
        [
         33,
         "BMW",
         "330i 4dr",
         3285
        ],
        [
         34,
         "BMW",
         "330Ci 2dr",
         3285
        ],
        [
         35,
         "BMW",
         "330xi 4dr",
         3483
        ],
        [
         36,
         "BMW",
         "525i 4dr",
         3428
        ],
        [
         37,
         "BMW",
         "330Ci convertible 2dr",
         3616
        ],
        [
         38,
         "BMW",
         "530i 4dr",
         3472
        ],
        [
         39,
         "BMW",
         "545iA 4dr",
         3814
        ],
        [
         40,
         "BMW",
         "745i 4dr",
         4376
        ],
        [
         41,
         "BMW",
         "745Li 4dr",
         4464
        ],
        [
         42,
         "BMW",
         "M3 coupe 2dr",
         3415
        ],
        [
         43,
         "BMW",
         "M3 convertible 2dr",
         3781
        ],
        [
         44,
         "BMW",
         "Z4 convertible 2.5i 2dr",
         2932
        ],
        [
         45,
         "BMW",
         "Z4 convertible 3.0i 2dr",
         2998
        ],
        [
         46,
         "BMW",
         "325xi Sport",
         3594
        ],
        [
         47,
         "Buick",
         "Rainier",
         4600
        ],
        [
         48,
         "Buick",
         "Rendezvous CX",
         4024
        ],
        [
         49,
         "Buick",
         "Century Custom 4dr",
         3353
        ],
        [
         50,
         "Buick",
         "LeSabre Custom 4dr",
         3567
        ],
        [
         51,
         "Buick",
         "Regal LS 4dr",
         3461
        ],
        [
         52,
         "Buick",
         "Regal GS 4dr",
         3536
        ],
        [
         53,
         "Buick",
         "LeSabre Limited 4dr",
         3591
        ],
        [
         54,
         "Buick",
         "Park Avenue 4dr",
         3778
        ],
        [
         55,
         "Buick",
         "Park Avenue Ultra 4dr",
         3909
        ],
        [
         56,
         "Cadillac",
         "Escalade",
         5367
        ],
        [
         57,
         "Cadillac",
         "SRX V8",
         4302
        ],
        [
         58,
         "Cadillac",
         "CTS VVT 4dr",
         3694
        ],
        [
         59,
         "Cadillac",
         "Deville 4dr",
         3984
        ],
        [
         60,
         "Cadillac",
         "Deville DTS 4dr",
         4044
        ],
        [
         61,
         "Cadillac",
         "Seville SLS 4dr",
         3992
        ],
        [
         62,
         "Cadillac",
         "XLR convertible 2dr",
         3647
        ],
        [
         63,
         "Cadillac",
         "Escalade EXT",
         5879
        ],
        [
         64,
         "Chevrolet",
         "Suburban 1500 LT",
         4947
        ],
        [
         65,
         "Chevrolet",
         "Tahoe LT",
         5050
        ],
        [
         66,
         "Chevrolet",
         "TrailBlazer LT",
         4425
        ],
        [
         67,
         "Chevrolet",
         "Tracker",
         2866
        ],
        [
         68,
         "Chevrolet",
         "Aveo 4dr",
         2370
        ],
        [
         69,
         "Chevrolet",
         "Aveo LS 4dr hatch",
         2348
        ],
        [
         70,
         "Chevrolet",
         "Cavalier 2dr",
         2617
        ],
        [
         71,
         "Chevrolet",
         "Cavalier 4dr",
         2676
        ],
        [
         72,
         "Chevrolet",
         "Cavalier LS 2dr",
         2617
        ],
        [
         73,
         "Chevrolet",
         "Impala 4dr",
         3465
        ],
        [
         74,
         "Chevrolet",
         "Malibu 4dr",
         3174
        ],
        [
         75,
         "Chevrolet",
         "Malibu LS 4dr",
         3297
        ],
        [
         76,
         "Chevrolet",
         "Monte Carlo LS 2dr",
         3340
        ],
        [
         77,
         "Chevrolet",
         "Impala LS 4dr",
         3476
        ],
        [
         78,
         "Chevrolet",
         "Impala SS 4dr",
         3606
        ],
        [
         79,
         "Chevrolet",
         "Malibu LT 4dr",
         3315
        ],
        [
         80,
         "Chevrolet",
         "Monte Carlo SS 2dr",
         3434
        ],
        [
         81,
         "Chevrolet",
         "Astro",
         4605
        ],
        [
         82,
         "Chevrolet",
         "Venture LS",
         3699
        ],
        [
         83,
         "Chevrolet",
         "Corvette 2dr",
         3246
        ],
        [
         84,
         "Chevrolet",
         "Corvette convertible 2dr",
         3248
        ],
        [
         85,
         "Chevrolet",
         "Avalanche 1500",
         5678
        ],
        [
         86,
         "Chevrolet",
         "Colorado Z85",
         3623
        ],
        [
         87,
         "Chevrolet",
         "Silverado 1500 Regular Cab",
         4142
        ],
        [
         88,
         "Chevrolet",
         "Silverado SS",
         4804
        ],
        [
         89,
         "Chevrolet",
         "SSR",
         4760
        ],
        [
         90,
         "Chevrolet",
         "Malibu Maxx LS",
         3458
        ],
        [
         91,
         "Chrysler",
         "PT Cruiser 4dr",
         3101
        ],
        [
         92,
         "Chrysler",
         "PT Cruiser Limited 4dr",
         3105
        ],
        [
         93,
         "Chrysler",
         "Sebring 4dr",
         3173
        ],
        [
         94,
         "Chrysler",
         "Sebring Touring 4dr",
         3222
        ],
        [
         95,
         "Chrysler",
         "300M 4dr",
         3581
        ],
        [
         96,
         "Chrysler",
         "Concorde LX 4dr",
         3479
        ],
        [
         97,
         "Chrysler",
         "Concorde LXi 4dr",
         3548
        ],
        [
         98,
         "Chrysler",
         "PT Cruiser GT 4dr",
         3217
        ],
        [
         99,
         "Chrysler",
         "Sebring convertible 2dr",
         3357
        ],
        [
         100,
         "Chrysler",
         "300M Special Edition 4dr",
         3650
        ],
        [
         101,
         "Chrysler",
         "Sebring Limited convertible 2dr",
         3448
        ],
        [
         102,
         "Chrysler",
         "Town and Country LX",
         4068
        ],
        [
         103,
         "Chrysler",
         "Town and Country Limited",
         4331
        ],
        [
         104,
         "Chrysler",
         "Crossfire 2dr",
         3060
        ],
        [
         105,
         "Chrysler",
         "Pacifica",
         4675
        ],
        [
         106,
         "Dodge",
         "Durango SLT",
         4987
        ],
        [
         107,
         "Dodge",
         "Neon SE 4dr",
         2581
        ],
        [
         108,
         "Dodge",
         "Neon SXT 4dr",
         2626
        ],
        [
         109,
         "Dodge",
         "Intrepid SE 4dr",
         3469
        ],
        [
         110,
         "Dodge",
         "Stratus SXT 4dr",
         3182
        ],
        [
         111,
         "Dodge",
         "Stratus SE 4dr",
         3175
        ],
        [
         112,
         "Dodge",
         "Intrepid ES 4dr",
         3487
        ],
        [
         113,
         "Dodge",
         "Caravan SE",
         3862
        ],
        [
         114,
         "Dodge",
         "Grand Caravan SXT",
         4440
        ],
        [
         115,
         "Dodge",
         "Viper SRT-10 convertible 2dr",
         3410
        ],
        [
         116,
         "Dodge",
         "Dakota Regular Cab",
         3714
        ],
        [
         117,
         "Dodge",
         "Dakota Club Cab",
         3829
        ],
        [
         118,
         "Dodge",
         "Ram 1500 Regular Cab ST",
         4542
        ],
        [
         119,
         "Ford",
         "Excursion 6.8 XLT",
         7190
        ],
        [
         120,
         "Ford",
         "Expedition 4.6 XLT",
         5000
        ],
        [
         121,
         "Ford",
         "Explorer XLT V6",
         4463
        ],
        [
         122,
         "Ford",
         "Escape XLS",
         3346
        ],
        [
         123,
         "Ford",
         "Focus ZX3 2dr hatch",
         2612
        ],
        [
         124,
         "Ford",
         "Focus LX 4dr",
         2606
        ],
        [
         125,
         "Ford",
         "Focus SE 4dr",
         2606
        ],
        [
         126,
         "Ford",
         "Focus ZX5 5dr",
         2691
        ],
        [
         127,
         "Ford",
         "Focus SVT 2dr",
         2750
        ],
        [
         128,
         "Ford",
         "Taurus LX 4dr",
         3306
        ],
        [
         129,
         "Ford",
         "Taurus SES Duratec 4dr",
         3313
        ],
        [
         130,
         "Ford",
         "Crown Victoria 4dr",
         4057
        ],
        [
         131,
         "Ford",
         "Crown Victoria LX 4dr",
         4057
        ],
        [
         132,
         "Ford",
         "Crown Victoria LX Sport 4dr",
         4057
        ],
        [
         133,
         "Ford",
         "Freestar SE",
         4275
        ],
        [
         134,
         "Ford",
         "Mustang 2dr (convertible)",
         3290
        ],
        [
         135,
         "Ford",
         "Mustang GT Premium convertible 2dr",
         3347
        ],
        [
         136,
         "Ford",
         "Thunderbird Deluxe convert w/hardtop 2d",
         3780
        ],
        [
         137,
         "Ford",
         "F-150 Regular Cab XL",
         4788
        ],
        [
         138,
         "Ford",
         "F-150 Supercab Lariat",
         5464
        ],
        [
         139,
         "Ford",
         "Ranger 2.3 XL Regular Cab",
         3028
        ],
        [
         140,
         "Ford",
         "Focus ZTW",
         2702
        ],
        [
         141,
         "Ford",
         "Taurus SE",
         3497
        ],
        [
         142,
         "GMC",
         "Envoy XUV SLE",
         4945
        ],
        [
         143,
         "GMC",
         "Yukon 1500 SLE",
         5042
        ],
        [
         144,
         "GMC",
         "Yukon XL 2500 SLT",
         6133
        ],
        [
         145,
         "GMC",
         "Safari SLE",
         4309
        ],
        [
         146,
         "GMC",
         "Canyon Z85 SL Regular Cab",
         3351
        ],
        [
         147,
         "GMC",
         "Sierra Extended Cab 1500",
         4548
        ],
        [
         148,
         "GMC",
         "Sierra HD 2500",
         5440
        ],
        [
         149,
         "GMC",
         "Sonoma Crew Cab",
         4083
        ],
        [
         150,
         "Honda",
         "Civic Hybrid 4dr manual (gas/electric)",
         2732
        ],
        [
         151,
         "Honda",
         "Insight 2dr (gas/electric)",
         1850
        ],
        [
         152,
         "Honda",
         "Pilot LX",
         4387
        ],
        [
         153,
         "Honda",
         "CR-V LX",
         3258
        ],
        [
         154,
         "Honda",
         "Element LX",
         3468
        ],
        [
         155,
         "Honda",
         "Civic DX 2dr",
         2432
        ],
        [
         156,
         "Honda",
         "Civic HX 2dr",
         2500
        ],
        [
         157,
         "Honda",
         "Civic LX 4dr",
         2513
        ],
        [
         158,
         "Honda",
         "Accord LX 2dr",
         2994
        ],
        [
         159,
         "Honda",
         "Accord EX 2dr",
         3047
        ],
        [
         160,
         "Honda",
         "Civic EX 4dr",
         2601
        ],
        [
         161,
         "Honda",
         "Civic Si 2dr hatch",
         2782
        ],
        [
         162,
         "Honda",
         "Accord LX V6 4dr",
         3349
        ],
        [
         163,
         "Honda",
         "Accord EX V6 2dr",
         3294
        ],
        [
         164,
         "Honda",
         "Odyssey LX",
         4310
        ],
        [
         165,
         "Honda",
         "Odyssey EX",
         4365
        ],
        [
         166,
         "Honda",
         "S2000 convertible 2dr",
         2835
        ],
        [
         167,
         "Hummer",
         "H2",
         6400
        ],
        [
         168,
         "Hyundai",
         "Santa Fe GLS",
         3549
        ],
        [
         169,
         "Hyundai",
         "Accent 2dr hatch",
         2255
        ],
        [
         170,
         "Hyundai",
         "Accent GL 4dr",
         2290
        ],
        [
         171,
         "Hyundai",
         "Accent GT 2dr hatch",
         2339
        ],
        [
         172,
         "Hyundai",
         "Elantra GLS 4dr",
         2635
        ],
        [
         173,
         "Hyundai",
         "Elantra GT 4dr",
         2635
        ],
        [
         174,
         "Hyundai",
         "Elantra GT 4dr hatch",
         2698
        ],
        [
         175,
         "Hyundai",
         "Sonata GLS 4dr",
         3217
        ],
        [
         176,
         "Hyundai",
         "Sonata LX 4dr",
         3217
        ],
        [
         177,
         "Hyundai",
         "XG350 4dr",
         3651
        ],
        [
         178,
         "Hyundai",
         "XG350 L 4dr",
         3651
        ],
        [
         179,
         "Hyundai",
         "Tiburon GT V6 2dr",
         3023
        ],
        [
         180,
         "Infiniti",
         "G35 4dr",
         3336
        ],
        [
         181,
         "Infiniti",
         "G35 Sport Coupe 2dr",
         3416
        ],
        [
         182,
         "Infiniti",
         "G35 4dr",
         3677
        ],
        [
         183,
         "Infiniti",
         "I35 4dr",
         3306
        ],
        [
         184,
         "Infiniti",
         "M45 4dr",
         3851
        ],
        [
         185,
         "Infiniti",
         "Q45 Luxury 4dr",
         3977
        ],
        [
         186,
         "Infiniti",
         "FX35",
         4056
        ],
        [
         187,
         "Infiniti",
         "FX45",
         4309
        ],
        [
         188,
         "Isuzu",
         "Ascender S",
         4967
        ],
        [
         189,
         "Isuzu",
         "Rodeo S",
         3836
        ],
        [
         190,
         "Jaguar",
         "X-Type 2.5 4dr",
         3428
        ],
        [
         191,
         "Jaguar",
         "X-Type 3.0 4dr",
         3516
        ],
        [
         192,
         "Jaguar",
         "S-Type 3.0 4dr",
         3777
        ],
        [
         193,
         "Jaguar",
         "S-Type 4.2 4dr",
         3874
        ],
        [
         194,
         "Jaguar",
         "S-Type R 4dr",
         4046
        ],
        [
         195,
         "Jaguar",
         "Vanden Plas 4dr",
         3803
        ],
        [
         196,
         "Jaguar",
         "XJ8 4dr",
         3803
        ],
        [
         197,
         "Jaguar",
         "XJR 4dr",
         3948
        ],
        [
         198,
         "Jaguar",
         "XK8 coupe 2dr",
         3779
        ],
        [
         199,
         "Jaguar",
         "XK8 convertible 2dr",
         3980
        ],
        [
         200,
         "Jaguar",
         "XKR coupe 2dr",
         3865
        ],
        [
         201,
         "Jaguar",
         "XKR convertible 2dr",
         4042
        ],
        [
         202,
         "Jeep",
         "Grand Cherokee Laredo",
         3790
        ],
        [
         203,
         "Jeep",
         "Liberty Sport",
         3826
        ],
        [
         204,
         "Jeep",
         "Wrangler Sahara convertible 2dr",
         3575
        ],
        [
         205,
         "Kia",
         "Sorento LX",
         4112
        ],
        [
         206,
         "Kia",
         "Optima LX 4dr",
         3281
        ],
        [
         207,
         "Kia",
         "Rio 4dr manual",
         2403
        ],
        [
         208,
         "Kia",
         "Rio 4dr auto",
         2458
        ],
        [
         209,
         "Kia",
         "Spectra 4dr",
         2661
        ],
        [
         210,
         "Kia",
         "Spectra GS 4dr hatch",
         2686
        ],
        [
         211,
         "Kia",
         "Spectra GSX 4dr hatch",
         2697
        ],
        [
         212,
         "Kia",
         "Optima LX V6 4dr",
         3279
        ],
        [
         213,
         "Kia",
         "Amanti 4dr",
         4021
        ],
        [
         214,
         "Kia",
         "Sedona LX",
         4802
        ],
        [
         215,
         "Kia",
         "Rio Cinco",
         2447
        ],
        [
         216,
         "Land Rover",
         "Range Rover HSE",
         5379
        ],
        [
         217,
         "Land Rover",
         "Discovery SE",
         4576
        ],
        [
         218,
         "Land Rover",
         "Freelander SE",
         3577
        ],
        [
         219,
         "Lexus",
         "GX 470",
         4740
        ],
        [
         220,
         "Lexus",
         "LX 470",
         5590
        ],
        [
         221,
         "Lexus",
         "RX 330",
         4065
        ],
        [
         222,
         "Lexus",
         "ES 330 4dr",
         3460
        ],
        [
         223,
         "Lexus",
         "IS 300 4dr manual",
         3255
        ],
        [
         224,
         "Lexus",
         "IS 300 4dr auto",
         3285
        ],
        [
         225,
         "Lexus",
         "GS 300 4dr",
         3649
        ],
        [
         226,
         "Lexus",
         "GS 430 4dr",
         3715
        ],
        [
         227,
         "Lexus",
         "LS 430 4dr",
         3990
        ],
        [
         228,
         "Lexus",
         "SC 430 convertible 2dr",
         3840
        ],
        [
         229,
         "Lexus",
         "IS 300 SportCross",
         3410
        ],
        [
         230,
         "Lincoln",
         "Navigator Luxury",
         5969
        ],
        [
         231,
         "Lincoln",
         "Aviator Ultimate",
         4834
        ],
        [
         232,
         "Lincoln",
         "LS V6 Luxury 4dr",
         3681
        ],
        [
         233,
         "Lincoln",
         "LS V6 Premium 4dr",
         3681
        ],
        [
         234,
         "Lincoln",
         "LS V8 Sport 4dr",
         3768
        ],
        [
         235,
         "Lincoln",
         "LS V8 Ultimate 4dr",
         3768
        ],
        [
         236,
         "Lincoln",
         "Town Car Signature 4dr",
         4369
        ],
        [
         237,
         "Lincoln",
         "Town Car Ultimate 4dr",
         4369
        ],
        [
         238,
         "Lincoln",
         "Town Car Ultimate L 4dr",
         4474
        ],
        [
         239,
         "MINI",
         "Cooper",
         2524
        ],
        [
         240,
         "MINI",
         "Cooper S",
         2678
        ],
        [
         241,
         "Mazda",
         "Tribute DX 2.0",
         3091
        ],
        [
         242,
         "Mazda",
         "Mazda3 i 4dr",
         2696
        ],
        [
         243,
         "Mazda",
         "Mazda3 s 4dr",
         2762
        ],
        [
         244,
         "Mazda",
         "Mazda6 i 4dr",
         3042
        ],
        [
         245,
         "Mazda",
         "MPV ES",
         3812
        ],
        [
         246,
         "Mazda",
         "MX-5 Miata convertible 2dr",
         2387
        ],
        [
         247,
         "Mazda",
         "MX-5 Miata LS convertible 2dr",
         2387
        ],
        [
         248,
         "Mazda",
         "RX-8 4dr automatic",
         3053
        ],
        [
         249,
         "Mazda",
         "RX-8 4dr manual",
         3029
        ],
        [
         250,
         "Mazda",
         "B2300 SX Regular Cab",
         2960
        ],
        [
         251,
         "Mazda",
         "B4000 SE Cab Plus",
         3571
        ],
        [
         252,
         "Mercedes-Benz",
         "G500",
         5423
        ],
        [
         253,
         "Mercedes-Benz",
         "ML500",
         4874
        ],
        [
         254,
         "Mercedes-Benz",
         "C230 Sport 2dr",
         3250
        ],
        [
         255,
         "Mercedes-Benz",
         "C320 Sport 2dr",
         3430
        ],
        [
         256,
         "Mercedes-Benz",
         "C240 4dr",
         3360
        ],
        [
         257,
         "Mercedes-Benz",
         "C240 4dr",
         3360
        ],
        [
         258,
         "Mercedes-Benz",
         "C320 Sport 4dr",
         3430
        ],
        [
         259,
         "Mercedes-Benz",
         "C320 4dr",
         3450
        ],
        [
         260,
         "Mercedes-Benz",
         "C320 4dr",
         3450
        ],
        [
         261,
         "Mercedes-Benz",
         "C32 AMG 4dr",
         3540
        ],
        [
         262,
         "Mercedes-Benz",
         "CL500 2dr",
         4085
        ],
        [
         263,
         "Mercedes-Benz",
         "CL600 2dr",
         4473
        ],
        [
         264,
         "Mercedes-Benz",
         "CLK320 coupe 2dr (convertible)",
         3770
        ],
        [
         265,
         "Mercedes-Benz",
         "CLK500 coupe 2dr (convertible)",
         3585
        ],
        [
         266,
         "Mercedes-Benz",
         "E320 4dr",
         3635
        ],
        [
         267,
         "Mercedes-Benz",
         "E500 4dr",
         3815
        ],
        [
         268,
         "Mercedes-Benz",
         "S430 4dr",
         4160
        ],
        [
         269,
         "Mercedes-Benz",
         "S500 4dr",
         4390
        ],
        [
         270,
         "Mercedes-Benz",
         "SL500 convertible 2dr",
         4065
        ],
        [
         271,
         "Mercedes-Benz",
         "SL55 AMG 2dr",
         4235
        ],
        [
         272,
         "Mercedes-Benz",
         "SL600 convertible 2dr",
         4429
        ],
        [
         273,
         "Mercedes-Benz",
         "SLK230 convertible 2dr",
         3055
        ],
        [
         274,
         "Mercedes-Benz",
         "SLK32 AMG 2dr",
         3220
        ],
        [
         275,
         "Mercedes-Benz",
         "C240",
         3470
        ],
        [
         276,
         "Mercedes-Benz",
         "E320",
         3966
        ],
        [
         277,
         "Mercedes-Benz",
         "E500",
         4230
        ],
        [
         278,
         "Mercury",
         "Mountaineer",
         4374
        ],
        [
         279,
         "Mercury",
         "Sable GS 4dr",
         3308
        ],
        [
         280,
         "Mercury",
         "Grand Marquis GS 4dr",
         4052
        ],
        [
         281,
         "Mercury",
         "Grand Marquis LS Premium 4dr",
         4052
        ],
        [
         282,
         "Mercury",
         "Sable LS Premium 4dr",
         3315
        ],
        [
         283,
         "Mercury",
         "Grand Marquis LS Ultimate 4dr",
         4052
        ],
        [
         284,
         "Mercury",
         "Marauder 4dr",
         4195
        ],
        [
         285,
         "Mercury",
         "Monterey Luxury",
         4340
        ],
        [
         286,
         "Mercury",
         "Sable GS",
         3488
        ],
        [
         287,
         "Mitsubishi",
         "Endeavor XLS",
         4134
        ],
        [
         288,
         "Mitsubishi",
         "Montero XLS",
         4718
        ],
        [
         289,
         "Mitsubishi",
         "Outlander LS",
         3240
        ],
        [
         290,
         "Mitsubishi",
         "Lancer ES 4dr",
         2656
        ],
        [
         291,
         "Mitsubishi",
         "Lancer LS 4dr",
         2795
        ],
        [
         292,
         "Mitsubishi",
         "Galant ES 2.4L 4dr",
         3351
        ],
        [
         293,
         "Mitsubishi",
         "Lancer OZ Rally 4dr auto",
         2744
        ],
        [
         294,
         "Mitsubishi",
         "Diamante LS 4dr",
         3549
        ],
        [
         295,
         "Mitsubishi",
         "Galant GTS 4dr",
         3649
        ],
        [
         296,
         "Mitsubishi",
         "Eclipse GTS 2dr",
         3241
        ],
        [
         297,
         "Mitsubishi",
         "Eclipse Spyder GT convertible 2dr",
         3296
        ],
        [
         298,
         "Mitsubishi",
         "Lancer Evolution 4dr",
         3263
        ],
        [
         299,
         "Mitsubishi",
         "Lancer Sportback LS",
         3020
        ],
        [
         300,
         "Nissan",
         "Pathfinder Armada SE",
         5013
        ],
        [
         301,
         "Nissan",
         "Pathfinder SE",
         3871
        ],
        [
         302,
         "Nissan",
         "Xterra XE V6",
         3760
        ],
        [
         303,
         "Nissan",
         "Sentra 1.8 4dr",
         2513
        ],
        [
         304,
         "Nissan",
         "Sentra 1.8 S 4dr",
         2581
        ],
        [
         305,
         "Nissan",
         "Altima S 4dr",
         3039
        ],
        [
         306,
         "Nissan",
         "Sentra SE-R 4dr",
         2761
        ],
        [
         307,
         "Nissan",
         "Altima SE 4dr",
         3197
        ],
        [
         308,
         "Nissan",
         "Maxima SE 4dr",
         3473
        ],
        [
         309,
         "Nissan",
         "Maxima SL 4dr",
         3476
        ],
        [
         310,
         "Nissan",
         "Quest S",
         4012
        ],
        [
         311,
         "Nissan",
         "Quest SE",
         4175
        ],
        [
         312,
         "Nissan",
         "350Z coupe 2dr",
         3188
        ],
        [
         313,
         "Nissan",
         "350Z Enthusiast convertible 2dr",
         3428
        ],
        [
         314,
         "Nissan",
         "Frontier King Cab XE V6",
         3932
        ],
        [
         315,
         "Nissan",
         "Titan King Cab XE",
         5287
        ],
        [
         316,
         "Nissan",
         "Murano SL",
         3801
        ],
        [
         317,
         "Oldsmobile",
         "Alero GX 2dr",
         2946
        ],
        [
         318,
         "Oldsmobile",
         "Alero GLS 2dr",
         3085
        ],
        [
         319,
         "Oldsmobile",
         "Silhouette GL",
         3948
        ],
        [
         320,
         "Pontiac",
         "Aztekt",
         3779
        ],
        [
         321,
         "Pontiac",
         "Sunfire 1SA 2dr",
         2771
        ],
        [
         322,
         "Pontiac",
         "Grand Am GT 2dr",
         3118
        ],
        [
         323,
         "Pontiac",
         "Grand Prix GT1 4dr",
         3477
        ],
        [
         324,
         "Pontiac",
         "Sunfire 1SC 2dr",
         2771
        ],
        [
         325,
         "Pontiac",
         "Grand Prix GT2 4dr",
         3484
        ],
        [
         326,
         "Pontiac",
         "Bonneville GXP 4dr",
         3790
        ],
        [
         327,
         "Pontiac",
         "Montana",
         3803
        ],
        [
         328,
         "Pontiac",
         "Montana EWB",
         4431
        ],
        [
         329,
         "Pontiac",
         "GTO 2dr",
         3725
        ],
        [
         330,
         "Pontiac",
         "Vibe",
         2701
        ],
        [
         331,
         "Porsche",
         "Cayenne S",
         4950
        ],
        [
         332,
         "Porsche",
         "911 Carrera convertible 2dr (coupe)",
         3135
        ],
        [
         333,
         "Porsche",
         "911 Carrera 4S coupe 2dr (convert)",
         3240
        ],
        [
         334,
         "Porsche",
         "911 Targa coupe 2dr",
         3119
        ],
        [
         335,
         "Porsche",
         "911 GT2 2dr",
         3131
        ],
        [
         336,
         "Porsche",
         "Boxster convertible 2dr",
         2811
        ],
        [
         337,
         "Porsche",
         "Boxster S convertible 2dr",
         2911
        ],
        [
         338,
         "Saab",
         "9-3 Arc Sport 4dr",
         3175
        ],
        [
         339,
         "Saab",
         "9-3 Aero 4dr",
         3175
        ],
        [
         340,
         "Saab",
         "9-5 Arc 4dr",
         3470
        ],
        [
         341,
         "Saab",
         "9-5 Aero 4dr",
         3470
        ],
        [
         342,
         "Saab",
         "9-3 Arc convertible 2dr",
         3480
        ],
        [
         343,
         "Saab",
         "9-3 Aero convertible 2dr",
         3700
        ],
        [
         344,
         "Saab",
         "9-5 Aero",
         3620
        ],
        [
         345,
         "Saturn",
         "VUE",
         3381
        ],
        [
         346,
         "Saturn",
         "Ion1 4dr",
         2692
        ],
        [
         347,
         "Saturn",
         "lon2 4dr",
         2692
        ],
        [
         348,
         "Saturn",
         "lon3 4dr",
         2692
        ],
        [
         349,
         "Saturn",
         "lon2 quad coupe 2dr",
         2751
        ],
        [
         350,
         "Saturn",
         "lon3 quad coupe 2dr",
         2751
        ],
        [
         351,
         "Saturn",
         "L300-2 4dr",
         3197
        ],
        [
         352,
         "Saturn",
         "L300 2",
         3109
        ],
        [
         353,
         "Scion",
         "xA 4dr hatch",
         2340
        ],
        [
         354,
         "Scion",
         "xB",
         2425
        ],
        [
         355,
         "Subaru",
         "Impreza 2.5 RS 4dr",
         2965
        ],
        [
         356,
         "Subaru",
         "Legacy L 4dr",
         3285
        ],
        [
         357,
         "Subaru",
         "Legacy GT 4dr",
         3395
        ],
        [
         358,
         "Subaru",
         "Outback Limited Sedan 4dr",
         3495
        ],
        [
         359,
         "Subaru",
         "Outback H6 4dr",
         3610
        ],
        [
         360,
         "Subaru",
         "Outback H-6 VDC 4dr",
         3630
        ],
        [
         361,
         "Subaru",
         "Impreza WRX 4dr",
         3085
        ],
        [
         362,
         "Subaru",
         "Impreza WRX STi 4dr",
         3263
        ],
        [
         363,
         "Subaru",
         "Baja",
         3485
        ],
        [
         364,
         "Subaru",
         "Forester X",
         3090
        ],
        [
         365,
         "Subaru",
         "Outback",
         3430
        ],
        [
         366,
         "Suzuki",
         "XL-7 EX",
         3682
        ],
        [
         367,
         "Suzuki",
         "Vitara LX",
         3020
        ],
        [
         368,
         "Suzuki",
         "Aeno S 4dr",
         2676
        ],
        [
         369,
         "Suzuki",
         "Aerio LX 4dr",
         2676
        ],
        [
         370,
         "Suzuki",
         "Forenza S 4dr",
         2701
        ],
        [
         371,
         "Suzuki",
         "Forenza EX 4dr",
         2756
        ],
        [
         372,
         "Suzuki",
         "Verona LX 4dr",
         3380
        ],
        [
         373,
         "Suzuki",
         "Aerio SX",
         2932
        ],
        [
         374,
         "Toyota",
         "Prius 4dr (gas/electric)",
         2890
        ],
        [
         375,
         "Toyota",
         "Sequoia SR5",
         5270
        ],
        [
         376,
         "Toyota",
         "4Runner SR5 V6",
         4035
        ],
        [
         377,
         "Toyota",
         "Highlander V6",
         3935
        ],
        [
         378,
         "Toyota",
         "Land Cruiser",
         5390
        ],
        [
         379,
         "Toyota",
         "RAV4",
         3119
        ],
        [
         380,
         "Toyota",
         "Corolla CE 4dr",
         2502
        ],
        [
         381,
         "Toyota",
         "Corolla S 4dr",
         2524
        ],
        [
         382,
         "Toyota",
         "Corolla LE 4dr",
         2524
        ],
        [
         383,
         "Toyota",
         "Echo 2dr manual",
         2035
        ],
        [
         384,
         "Toyota",
         "Echo 2dr auto",
         2085
        ],
        [
         385,
         "Toyota",
         "Echo 4dr",
         2055
        ],
        [
         386,
         "Toyota",
         "Camry LE 4dr",
         3086
        ],
        [
         387,
         "Toyota",
         "Camry LE V6 4dr",
         3296
        ],
        [
         388,
         "Toyota",
         "Camry Solara SE 2dr",
         3175
        ],
        [
         389,
         "Toyota",
         "Camry Solara SE V6 2dr",
         3417
        ],
        [
         390,
         "Toyota",
         "Avalon XL 4dr",
         3417
        ],
        [
         391,
         "Toyota",
         "Camry XLE V6 4dr",
         3362
        ],
        [
         392,
         "Toyota",
         "Camry Solara SLE V6 2dr",
         3439
        ],
        [
         393,
         "Toyota",
         "Avalon XLS 4dr",
         3439
        ],
        [
         394,
         "Toyota",
         "Sienna CE",
         4120
        ],
        [
         395,
         "Toyota",
         "Sienna XLE Limited",
         4165
        ],
        [
         396,
         "Toyota",
         "Celica GT-S 2dr",
         2500
        ],
        [
         397,
         "Toyota",
         "MR2 Spyder convertible 2dr",
         2195
        ],
        [
         398,
         "Toyota",
         "Tacoma",
         2750
        ],
        [
         399,
         "Toyota",
         "Tundra Regular Cab V6",
         3925
        ],
        [
         400,
         "Toyota",
         "Tundra Access Cab V6 SR5",
         4435
        ],
        [
         401,
         "Toyota",
         "Matrix XR",
         2679
        ],
        [
         402,
         "Volkswagen",
         "Touareg V6",
         5086
        ],
        [
         403,
         "Volkswagen",
         "Golf GLS 4dr",
         2897
        ],
        [
         404,
         "Volkswagen",
         "GTI 1.8T 2dr hatch",
         2934
        ],
        [
         405,
         "Volkswagen",
         "Jetta GLS TDI 4dr",
         3003
        ],
        [
         406,
         "Volkswagen",
         "New Beetle GLS 1.8T 2dr",
         2820
        ],
        [
         407,
         "Volkswagen",
         "Jetta GLI VR6 4dr",
         3179
        ],
        [
         408,
         "Volkswagen",
         "New Beetle GLS convertible 2dr",
         3082
        ],
        [
         409,
         "Volkswagen",
         "Passat GLS 4dr",
         3241
        ],
        [
         410,
         "Volkswagen",
         "Passat GLX V6 4MOTION 4dr",
         3721
        ],
        [
         411,
         "Volkswagen",
         "Passat W8 4MOTION 4dr",
         3953
        ],
        [
         412,
         "Volkswagen",
         "Phaeton 4dr",
         5194
        ],
        [
         413,
         "Volkswagen",
         "Phaeton W12 4dr",
         5399
        ],
        [
         414,
         "Volkswagen",
         "Jetta GL",
         3034
        ],
        [
         415,
         "Volkswagen",
         "Passat GLS 1.8T",
         3338
        ],
        [
         416,
         "Volkswagen",
         "Passat W8",
         4067
        ],
        [
         417,
         "Volvo",
         "XC90 T6",
         4638
        ],
        [
         418,
         "Volvo",
         "S40 4dr",
         2767
        ],
        [
         419,
         "Volvo",
         "S60 2.5 4dr",
         3903
        ],
        [
         420,
         "Volvo",
         "S60 T5 4dr",
         3766
        ],
        [
         421,
         "Volvo",
         "S60 R 4dr",
         3571
        ],
        [
         422,
         "Volvo",
         "S80 2.9 4dr",
         3576
        ],
        [
         423,
         "Volvo",
         "S80 2.5T 4dr",
         3691
        ],
        [
         424,
         "Volvo",
         "C70 LPT convertible 2dr",
         3450
        ],
        [
         425,
         "Volvo",
         "C70 HPT convertible 2dr",
         3450
        ],
        [
         426,
         "Volvo",
         "S80 T6 4dr",
         3653
        ],
        [
         427,
         "Volvo",
         "V40",
         2822
        ],
        [
         428,
         "Volvo",
         "XC70",
         3823
        ]
       ],
       "datasetInfos": [],
       "dbfsResultPath": null,
       "isJsonSchema": true,
       "metadata": {},
       "overflow": false,
       "plotOptions": {
        "customPlotOptions": {},
        "displayType": "table",
        "pivotAggregation": null,
        "pivotColumns": null,
        "xColumns": null,
        "yColumns": null
       },
       "removedWidgets": [],
       "schema": [
        {
         "metadata": "{}",
         "name": "ID",
         "type": "\"integer\""
        },
        {
         "metadata": "{}",
         "name": "Name",
         "type": "\"string\""
        },
        {
         "metadata": "{}",
         "name": "Model",
         "type": "\"string\""
        },
        {
         "metadata": "{}",
         "name": "Length",
         "type": "\"integer\""
        }
       ],
       "type": "table"
      }
     },
     "output_type": "display_data"
    },
    {
     "output_type": "display_data",
     "data": {
      "text/html": [
       "<style scoped>\n",
       "  .table-result-container {\n",
       "    max-height: 300px;\n",
       "    overflow: auto;\n",
       "  }\n",
       "  table, th, td {\n",
       "    border: 1px solid black;\n",
       "    border-collapse: collapse;\n",
       "  }\n",
       "  th, td {\n",
       "    padding: 5px;\n",
       "  }\n",
       "  th {\n",
       "    text-align: left;\n",
       "  }\n",
       "</style><div class='table-result-container'><table class='table-result'><thead style='background-color: white'><tr><th>ID</th><th>Name</th></tr></thead><tbody><tr><td>1</td><td>Australia</td></tr><tr><td>2</td><td>Austria</td></tr><tr><td>3</td><td>Brazil</td></tr><tr><td>4</td><td>Canada</td></tr><tr><td>5</td><td>China</td></tr><tr><td>6</td><td>Czech Republic</td></tr><tr><td>7</td><td>France</td></tr><tr><td>8</td><td>Germany</td></tr><tr><td>9</td><td>Indonesia</td></tr><tr><td>10</td><td>Israel</td></tr><tr><td>11</td><td>Italy</td></tr><tr><td>12</td><td>Japan</td></tr><tr><td>13</td><td>Russia</td></tr><tr><td>14</td><td>Slovenia</td></tr><tr><td>15</td><td>Switzerland</td></tr><tr><td>16</td><td>United Kingdom</td></tr><tr><td>17</td><td>Unites States</td></tr></tbody></table></div>"
      ]
     },
     "metadata": {
      "application/vnd.databricks.v1+output": {
       "addedWidgets": {},
       "aggData": [],
       "aggError": "",
       "aggOverflow": false,
       "aggSchema": [],
       "aggSeriesLimitReached": false,
       "aggType": "",
       "arguments": {},
       "columnCustomDisplayInfos": {},
       "data": [
        [
         1,
         "Australia"
        ],
        [
         2,
         "Austria"
        ],
        [
         3,
         "Brazil"
        ],
        [
         4,
         "Canada"
        ],
        [
         5,
         "China"
        ],
        [
         6,
         "Czech Republic"
        ],
        [
         7,
         "France"
        ],
        [
         8,
         "Germany"
        ],
        [
         9,
         "Indonesia"
        ],
        [
         10,
         "Israel"
        ],
        [
         11,
         "Italy"
        ],
        [
         12,
         "Japan"
        ],
        [
         13,
         "Russia"
        ],
        [
         14,
         "Slovenia"
        ],
        [
         15,
         "Switzerland"
        ],
        [
         16,
         "United Kingdom"
        ],
        [
         17,
         "Unites States"
        ]
       ],
       "datasetInfos": [],
       "dbfsResultPath": null,
       "isJsonSchema": true,
       "metadata": {},
       "overflow": false,
       "plotOptions": {
        "customPlotOptions": {},
        "displayType": "table",
        "pivotAggregation": null,
        "pivotColumns": null,
        "xColumns": null,
        "yColumns": null
       },
       "removedWidgets": [],
       "schema": [
        {
         "metadata": "{}",
         "name": "ID",
         "type": "\"integer\""
        },
        {
         "metadata": "{}",
         "name": "Name",
         "type": "\"string\""
        }
       ],
       "type": "table"
      }
     },
     "output_type": "display_data"
    },
    {
     "output_type": "display_data",
     "data": {
      "text/html": [
       "<style scoped>\n",
       "  .table-result-container {\n",
       "    max-height: 300px;\n",
       "    overflow: auto;\n",
       "  }\n",
       "  table, th, td {\n",
       "    border: 1px solid black;\n",
       "    border-collapse: collapse;\n",
       "  }\n",
       "  th, td {\n",
       "    padding: 5px;\n",
       "  }\n",
       "  th {\n",
       "    text-align: left;\n",
       "  }\n",
       "</style><div class='table-result-container'><table class='table-result'><thead style='background-color: white'><tr><th>ID</th><th>Title</th><th>Genres</th></tr></thead><tbody><tr><td>1</td><td>Toy Story (1995)</td><td>Adventure|Animation|Children|Comedy|Fantasy</td></tr><tr><td>2</td><td>Jumanji (1995)</td><td>Adventure|Children|Fantasy</td></tr><tr><td>3</td><td>Grumpier Old Men (1995)</td><td>Comedy|Romance</td></tr><tr><td>4</td><td>Waiting to Exhale (1995)</td><td>Comedy|Drama|Romance</td></tr><tr><td>5</td><td>Father of the Bride Part II (1995)</td><td>Comedy</td></tr><tr><td>6</td><td>Heat (1995)</td><td>Action|Crime|Thriller</td></tr><tr><td>7</td><td>Sabrina (1995)</td><td>Comedy|Romance</td></tr><tr><td>8</td><td>Tom and Huck (1995)</td><td>Adventure|Children</td></tr><tr><td>9</td><td>Sudden Death (1995)</td><td>Action</td></tr><tr><td>10</td><td>GoldenEye (1995)</td><td>Action|Adventure|Thriller</td></tr><tr><td>11</td><td>\"American President The (1995)\"</td><td>Comedy|Drama|Romance</td></tr><tr><td>12</td><td>Dracula: Dead and Loving It (1995)</td><td>Comedy|Horror</td></tr><tr><td>13</td><td>Balto (1995)</td><td>Adventure|Animation|Children</td></tr><tr><td>14</td><td>Nixon (1995)</td><td>Drama</td></tr><tr><td>15</td><td>Cutthroat Island (1995)</td><td>Action|Adventure|Romance</td></tr><tr><td>16</td><td>Casino (1995)</td><td>Crime|Drama</td></tr><tr><td>17</td><td>Sense and Sensibility (1995)</td><td>Drama|Romance</td></tr><tr><td>18</td><td>Four Rooms (1995)</td><td>Comedy</td></tr><tr><td>19</td><td>Ace Ventura: When Nature Calls (1995)</td><td>Comedy</td></tr><tr><td>20</td><td>Money Train (1995)</td><td>Action|Comedy|Crime|Drama|Thriller</td></tr><tr><td>21</td><td>Get Shorty (1995)</td><td>Comedy|Crime|Thriller</td></tr><tr><td>22</td><td>Copycat (1995)</td><td>Crime|Drama|Horror|Mystery|Thriller</td></tr><tr><td>23</td><td>Assassins (1995)</td><td>Action|Crime|Thriller</td></tr><tr><td>24</td><td>Powder (1995)</td><td>Drama|Sci-Fi</td></tr><tr><td>25</td><td>Leaving Las Vegas (1995)</td><td>Drama|Romance</td></tr><tr><td>26</td><td>Othello (1995)</td><td>Drama</td></tr><tr><td>27</td><td>Now and Then (1995)</td><td>Children|Drama</td></tr><tr><td>28</td><td>Persuasion (1995)</td><td>Drama|Romance</td></tr><tr><td>29</td><td>\"City of Lost Children The (Cité des enfants perdus La) (1995)\"</td><td>Adventure|Drama|Fantasy|Mystery|Sci-Fi</td></tr><tr><td>30</td><td>Shanghai Triad (Yao a yao yao dao waipo qiao) (1995)</td><td>Crime|Drama</td></tr><tr><td>31</td><td>Dangerous Minds (1995)</td><td>Drama</td></tr><tr><td>32</td><td>Twelve Monkeys (a.k.a. 12 Monkeys) (1995)</td><td>Mystery|Sci-Fi|Thriller</td></tr><tr><td>33</td><td>Babe (1995)</td><td>Children|Drama</td></tr><tr><td>34</td><td>Carrington (1995)</td><td>Drama|Romance</td></tr><tr><td>35</td><td>Dead Man Walking (1995)</td><td>Crime|Drama</td></tr><tr><td>36</td><td>Across the Sea of Time (1995)</td><td>Documentary|IMAX</td></tr><tr><td>37</td><td>It Takes Two (1995)</td><td>Children|Comedy</td></tr><tr><td>38</td><td>Clueless (1995)</td><td>Comedy|Romance</td></tr><tr><td>39</td><td>\"Cry the Beloved Country (1995)\"</td><td>Drama</td></tr><tr><td>40</td><td>Richard III (1995)</td><td>Drama|War</td></tr><tr><td>41</td><td>Dead Presidents (1995)</td><td>Action|Crime|Drama</td></tr><tr><td>42</td><td>Restoration (1995)</td><td>Drama</td></tr><tr><td>43</td><td>Mortal Kombat (1995)</td><td>Action|Adventure|Fantasy</td></tr><tr><td>44</td><td>To Die For (1995)</td><td>Comedy|Drama|Thriller</td></tr><tr><td>45</td><td>How to Make an American Quilt (1995)</td><td>Drama|Romance</td></tr><tr><td>46</td><td>Seven (a.k.a. Se7en) (1995)</td><td>Mystery|Thriller</td></tr><tr><td>47</td><td>Pocahontas (1995)</td><td>Animation|Children|Drama|Musical|Romance</td></tr><tr><td>48</td><td>When Night Is Falling (1995)</td><td>Drama|Romance</td></tr><tr><td>49</td><td>\"Usual Suspects The (1995)\"</td><td>Crime|Mystery|Thriller</td></tr><tr><td>50</td><td>Mighty Aphrodite (1995)</td><td>Comedy|Drama|Romance</td></tr><tr><td>51</td><td>Lamerica (1994)</td><td>Adventure|Drama</td></tr><tr><td>52</td><td>\"Big Green The (1995)\"</td><td>Children|Comedy</td></tr><tr><td>53</td><td>Georgia (1995)</td><td>Drama</td></tr><tr><td>54</td><td>Home for the Holidays (1995)</td><td>Drama</td></tr><tr><td>55</td><td>\"Postman The (Postin Il) (1994)\"</td><td>Comedy|Drama|Romance</td></tr><tr><td>56</td><td>\"Confessional The (Confessionnal Le) (1995)\"</td><td>Drama|Mystery</td></tr><tr><td>57</td><td>\"Indian in the Cupboard The (1995)\"</td><td>Adventure|Children|Fantasy</td></tr><tr><td>58</td><td>Eye for an Eye (1996)</td><td>Drama|Thriller</td></tr><tr><td>59</td><td>Mr. Hollands Opus (1995)</td><td>Drama</td></tr><tr><td>60</td><td>Dont Be a Menace to South Central While Drinking Your Juice in the Hood (1996)</td><td>Comedy|Crime</td></tr><tr><td>61</td><td>Two if by Sea (1996)</td><td>Comedy|Romance</td></tr><tr><td>62</td><td>Bio-Dome (1996)</td><td>Comedy</td></tr><tr><td>63</td><td>Lawnmower Man 2: Beyond Cyberspace (1996)</td><td>Action|Sci-Fi|Thriller</td></tr><tr><td>64</td><td>French Twist (Gazon maudit) (1995)</td><td>Comedy|Romance</td></tr><tr><td>65</td><td>Friday (1995)</td><td>Comedy</td></tr><tr><td>66</td><td>From Dusk Till Dawn (1996)</td><td>Action|Comedy|Horror|Thriller</td></tr><tr><td>67</td><td>Fair Game (1995)</td><td>Action</td></tr><tr><td>68</td><td>Kicking and Screaming (1995)</td><td>Comedy|Drama</td></tr><tr><td>69</td><td>\"Misérables Les (1995)\"</td><td>Drama|War</td></tr><tr><td>70</td><td>Bed of Roses (1996)</td><td>Drama|Romance</td></tr><tr><td>71</td><td>Screamers (1995)</td><td>Action|Sci-Fi|Thriller</td></tr><tr><td>72</td><td>Nico Icon (1995)</td><td>Documentary</td></tr><tr><td>73</td><td>\"Crossing GuarThe (1995)\"</td><td>Action|Crime|Drama|Thriller</td></tr><tr><td>74</td><td>\"Juror The (1996)\"</td><td>Drama|Thriller</td></tr><tr><td>75</td><td>\"White Balloon The (Badkonake sefid) (1995)\"</td><td>Children|Drama</td></tr><tr><td>76</td><td>Things to Do in Denver When Youre Dead (1995)</td><td>Crime|Drama|Romance</td></tr><tr><td>77</td><td>Antonias Line (Antonia) (1995)</td><td>Comedy|Drama</td></tr><tr><td>78</td><td>Once Upon a Time... When We Were Colored (1995)</td><td>Drama|Romance</td></tr><tr><td>79</td><td>Last Summer in the Hamptons (1995)</td><td>Comedy|Drama</td></tr><tr><td>80</td><td>Angels and Insects (1995)</td><td>Drama|Romance</td></tr><tr><td>81</td><td>White Squall (1996)</td><td>Action|Adventure|Drama</td></tr><tr><td>82</td><td>Dunston Checks In (1996)</td><td>Children|Comedy</td></tr><tr><td>83</td><td>Black Sheep (1996)</td><td>Comedy</td></tr><tr><td>84</td><td>Nick of Time (1995)</td><td>Action|Thriller</td></tr><tr><td>85</td><td>Mary Reilly (1996)</td><td>Drama|Horror|Thriller</td></tr><tr><td>86</td><td>Vampire in Brooklyn (1995)</td><td>Comedy|Horror|Romance</td></tr><tr><td>87</td><td>Beautiful Girls (1996)</td><td>Comedy|Drama|Romance</td></tr><tr><td>88</td><td>Broken Arrow (1996)</td><td>Action|Adventure|Thriller</td></tr><tr><td>89</td><td>In the Bleak Midwinter (1995)</td><td>Comedy|Drama</td></tr><tr><td>90</td><td>\"Hate (Haine La) (1995)\"</td><td>Crime|Drama</td></tr><tr><td>91</td><td>Shopping (1994)</td><td>Action|Thriller</td></tr><tr><td>92</td><td>Heidi Fleiss: Hollywood Madam (1995)</td><td>Documentary</td></tr><tr><td>93</td><td>City Hall (1996)</td><td>Drama|Thriller</td></tr><tr><td>94</td><td>Bottle Rocket (1996)</td><td>Adventure|Comedy|Crime|Romance</td></tr><tr><td>95</td><td>Mr. Wrong (1996)</td><td>Comedy</td></tr><tr><td>96</td><td>Unforgettable (1996)</td><td>Mystery|Sci-Fi|Thriller</td></tr><tr><td>97</td><td>Happy Gilmore (1996)</td><td>Comedy</td></tr><tr><td>98</td><td>\"Bridges of Madison County The (1995)\"</td><td>Drama|Romance</td></tr><tr><td>99</td><td>Muppet Treasure Island (1996)</td><td>Adventure|Children|Comedy|Musical</td></tr><tr><td>100</td><td>Catwalk (1996)</td><td>Documentary</td></tr><tr><td>101</td><td>Braveheart (1995)</td><td>Action|Drama|War</td></tr><tr><td>102</td><td>Taxi Driver (1976)</td><td>Crime|Drama|Thriller</td></tr><tr><td>103</td><td>Rumble in the Bronx (Hont faan kui) (1995)</td><td>Action|Adventure|Comedy|Crime</td></tr><tr><td>104</td><td>Before and After (1996)</td><td>Drama|Mystery</td></tr><tr><td>105</td><td>Margarets Museum (1995)</td><td>Drama</td></tr><tr><td>106</td><td>Anne Frank Remembered (1995)</td><td>Documentary</td></tr><tr><td>107</td><td>\"Young Poisoners Handbook The (1995)\"</td><td>Crime|Drama</td></tr><tr><td>108</td><td>If Lucy Fell (1996)</td><td>Comedy|Romance</td></tr><tr><td>109</td><td>\"Steal Big Steal Little (1995)\"</td><td>Comedy</td></tr><tr><td>110</td><td>\"Boys of St. Vincent The (1992)\"</td><td>Drama</td></tr><tr><td>111</td><td>Boomerang (1992)</td><td>Comedy|Romance</td></tr><tr><td>112</td><td>Chungking Express (Chung Hing sam lam) (1994)</td><td>Drama|Mystery|Romance</td></tr></tbody></table></div>"
      ]
     },
     "metadata": {
      "application/vnd.databricks.v1+output": {
       "addedWidgets": {},
       "aggData": [],
       "aggError": "",
       "aggOverflow": false,
       "aggSchema": [],
       "aggSeriesLimitReached": false,
       "aggType": "",
       "arguments": {},
       "columnCustomDisplayInfos": {},
       "data": [
        [
         1,
         "Toy Story (1995)",
         "Adventure|Animation|Children|Comedy|Fantasy"
        ],
        [
         2,
         "Jumanji (1995)",
         "Adventure|Children|Fantasy"
        ],
        [
         3,
         "Grumpier Old Men (1995)",
         "Comedy|Romance"
        ],
        [
         4,
         "Waiting to Exhale (1995)",
         "Comedy|Drama|Romance"
        ],
        [
         5,
         "Father of the Bride Part II (1995)",
         "Comedy"
        ],
        [
         6,
         "Heat (1995)",
         "Action|Crime|Thriller"
        ],
        [
         7,
         "Sabrina (1995)",
         "Comedy|Romance"
        ],
        [
         8,
         "Tom and Huck (1995)",
         "Adventure|Children"
        ],
        [
         9,
         "Sudden Death (1995)",
         "Action"
        ],
        [
         10,
         "GoldenEye (1995)",
         "Action|Adventure|Thriller"
        ],
        [
         11,
         "\"American President The (1995)\"",
         "Comedy|Drama|Romance"
        ],
        [
         12,
         "Dracula: Dead and Loving It (1995)",
         "Comedy|Horror"
        ],
        [
         13,
         "Balto (1995)",
         "Adventure|Animation|Children"
        ],
        [
         14,
         "Nixon (1995)",
         "Drama"
        ],
        [
         15,
         "Cutthroat Island (1995)",
         "Action|Adventure|Romance"
        ],
        [
         16,
         "Casino (1995)",
         "Crime|Drama"
        ],
        [
         17,
         "Sense and Sensibility (1995)",
         "Drama|Romance"
        ],
        [
         18,
         "Four Rooms (1995)",
         "Comedy"
        ],
        [
         19,
         "Ace Ventura: When Nature Calls (1995)",
         "Comedy"
        ],
        [
         20,
         "Money Train (1995)",
         "Action|Comedy|Crime|Drama|Thriller"
        ],
        [
         21,
         "Get Shorty (1995)",
         "Comedy|Crime|Thriller"
        ],
        [
         22,
         "Copycat (1995)",
         "Crime|Drama|Horror|Mystery|Thriller"
        ],
        [
         23,
         "Assassins (1995)",
         "Action|Crime|Thriller"
        ],
        [
         24,
         "Powder (1995)",
         "Drama|Sci-Fi"
        ],
        [
         25,
         "Leaving Las Vegas (1995)",
         "Drama|Romance"
        ],
        [
         26,
         "Othello (1995)",
         "Drama"
        ],
        [
         27,
         "Now and Then (1995)",
         "Children|Drama"
        ],
        [
         28,
         "Persuasion (1995)",
         "Drama|Romance"
        ],
        [
         29,
         "\"City of Lost Children The (Cité des enfants perdus La) (1995)\"",
         "Adventure|Drama|Fantasy|Mystery|Sci-Fi"
        ],
        [
         30,
         "Shanghai Triad (Yao a yao yao dao waipo qiao) (1995)",
         "Crime|Drama"
        ],
        [
         31,
         "Dangerous Minds (1995)",
         "Drama"
        ],
        [
         32,
         "Twelve Monkeys (a.k.a. 12 Monkeys) (1995)",
         "Mystery|Sci-Fi|Thriller"
        ],
        [
         33,
         "Babe (1995)",
         "Children|Drama"
        ],
        [
         34,
         "Carrington (1995)",
         "Drama|Romance"
        ],
        [
         35,
         "Dead Man Walking (1995)",
         "Crime|Drama"
        ],
        [
         36,
         "Across the Sea of Time (1995)",
         "Documentary|IMAX"
        ],
        [
         37,
         "It Takes Two (1995)",
         "Children|Comedy"
        ],
        [
         38,
         "Clueless (1995)",
         "Comedy|Romance"
        ],
        [
         39,
         "\"Cry the Beloved Country (1995)\"",
         "Drama"
        ],
        [
         40,
         "Richard III (1995)",
         "Drama|War"
        ],
        [
         41,
         "Dead Presidents (1995)",
         "Action|Crime|Drama"
        ],
        [
         42,
         "Restoration (1995)",
         "Drama"
        ],
        [
         43,
         "Mortal Kombat (1995)",
         "Action|Adventure|Fantasy"
        ],
        [
         44,
         "To Die For (1995)",
         "Comedy|Drama|Thriller"
        ],
        [
         45,
         "How to Make an American Quilt (1995)",
         "Drama|Romance"
        ],
        [
         46,
         "Seven (a.k.a. Se7en) (1995)",
         "Mystery|Thriller"
        ],
        [
         47,
         "Pocahontas (1995)",
         "Animation|Children|Drama|Musical|Romance"
        ],
        [
         48,
         "When Night Is Falling (1995)",
         "Drama|Romance"
        ],
        [
         49,
         "\"Usual Suspects The (1995)\"",
         "Crime|Mystery|Thriller"
        ],
        [
         50,
         "Mighty Aphrodite (1995)",
         "Comedy|Drama|Romance"
        ],
        [
         51,
         "Lamerica (1994)",
         "Adventure|Drama"
        ],
        [
         52,
         "\"Big Green The (1995)\"",
         "Children|Comedy"
        ],
        [
         53,
         "Georgia (1995)",
         "Drama"
        ],
        [
         54,
         "Home for the Holidays (1995)",
         "Drama"
        ],
        [
         55,
         "\"Postman The (Postin Il) (1994)\"",
         "Comedy|Drama|Romance"
        ],
        [
         56,
         "\"Confessional The (Confessionnal Le) (1995)\"",
         "Drama|Mystery"
        ],
        [
         57,
         "\"Indian in the Cupboard The (1995)\"",
         "Adventure|Children|Fantasy"
        ],
        [
         58,
         "Eye for an Eye (1996)",
         "Drama|Thriller"
        ],
        [
         59,
         "Mr. Hollands Opus (1995)",
         "Drama"
        ],
        [
         60,
         "Dont Be a Menace to South Central While Drinking Your Juice in the Hood (1996)",
         "Comedy|Crime"
        ],
        [
         61,
         "Two if by Sea (1996)",
         "Comedy|Romance"
        ],
        [
         62,
         "Bio-Dome (1996)",
         "Comedy"
        ],
        [
         63,
         "Lawnmower Man 2: Beyond Cyberspace (1996)",
         "Action|Sci-Fi|Thriller"
        ],
        [
         64,
         "French Twist (Gazon maudit) (1995)",
         "Comedy|Romance"
        ],
        [
         65,
         "Friday (1995)",
         "Comedy"
        ],
        [
         66,
         "From Dusk Till Dawn (1996)",
         "Action|Comedy|Horror|Thriller"
        ],
        [
         67,
         "Fair Game (1995)",
         "Action"
        ],
        [
         68,
         "Kicking and Screaming (1995)",
         "Comedy|Drama"
        ],
        [
         69,
         "\"Misérables Les (1995)\"",
         "Drama|War"
        ],
        [
         70,
         "Bed of Roses (1996)",
         "Drama|Romance"
        ],
        [
         71,
         "Screamers (1995)",
         "Action|Sci-Fi|Thriller"
        ],
        [
         72,
         "Nico Icon (1995)",
         "Documentary"
        ],
        [
         73,
         "\"Crossing GuarThe (1995)\"",
         "Action|Crime|Drama|Thriller"
        ],
        [
         74,
         "\"Juror The (1996)\"",
         "Drama|Thriller"
        ],
        [
         75,
         "\"White Balloon The (Badkonake sefid) (1995)\"",
         "Children|Drama"
        ],
        [
         76,
         "Things to Do in Denver When Youre Dead (1995)",
         "Crime|Drama|Romance"
        ],
        [
         77,
         "Antonias Line (Antonia) (1995)",
         "Comedy|Drama"
        ],
        [
         78,
         "Once Upon a Time... When We Were Colored (1995)",
         "Drama|Romance"
        ],
        [
         79,
         "Last Summer in the Hamptons (1995)",
         "Comedy|Drama"
        ],
        [
         80,
         "Angels and Insects (1995)",
         "Drama|Romance"
        ],
        [
         81,
         "White Squall (1996)",
         "Action|Adventure|Drama"
        ],
        [
         82,
         "Dunston Checks In (1996)",
         "Children|Comedy"
        ],
        [
         83,
         "Black Sheep (1996)",
         "Comedy"
        ],
        [
         84,
         "Nick of Time (1995)",
         "Action|Thriller"
        ],
        [
         85,
         "Mary Reilly (1996)",
         "Drama|Horror|Thriller"
        ],
        [
         86,
         "Vampire in Brooklyn (1995)",
         "Comedy|Horror|Romance"
        ],
        [
         87,
         "Beautiful Girls (1996)",
         "Comedy|Drama|Romance"
        ],
        [
         88,
         "Broken Arrow (1996)",
         "Action|Adventure|Thriller"
        ],
        [
         89,
         "In the Bleak Midwinter (1995)",
         "Comedy|Drama"
        ],
        [
         90,
         "\"Hate (Haine La) (1995)\"",
         "Crime|Drama"
        ],
        [
         91,
         "Shopping (1994)",
         "Action|Thriller"
        ],
        [
         92,
         "Heidi Fleiss: Hollywood Madam (1995)",
         "Documentary"
        ],
        [
         93,
         "City Hall (1996)",
         "Drama|Thriller"
        ],
        [
         94,
         "Bottle Rocket (1996)",
         "Adventure|Comedy|Crime|Romance"
        ],
        [
         95,
         "Mr. Wrong (1996)",
         "Comedy"
        ],
        [
         96,
         "Unforgettable (1996)",
         "Mystery|Sci-Fi|Thriller"
        ],
        [
         97,
         "Happy Gilmore (1996)",
         "Comedy"
        ],
        [
         98,
         "\"Bridges of Madison County The (1995)\"",
         "Drama|Romance"
        ],
        [
         99,
         "Muppet Treasure Island (1996)",
         "Adventure|Children|Comedy|Musical"
        ],
        [
         100,
         "Catwalk (1996)",
         "Documentary"
        ],
        [
         101,
         "Braveheart (1995)",
         "Action|Drama|War"
        ],
        [
         102,
         "Taxi Driver (1976)",
         "Crime|Drama|Thriller"
        ],
        [
         103,
         "Rumble in the Bronx (Hont faan kui) (1995)",
         "Action|Adventure|Comedy|Crime"
        ],
        [
         104,
         "Before and After (1996)",
         "Drama|Mystery"
        ],
        [
         105,
         "Margarets Museum (1995)",
         "Drama"
        ],
        [
         106,
         "Anne Frank Remembered (1995)",
         "Documentary"
        ],
        [
         107,
         "\"Young Poisoners Handbook The (1995)\"",
         "Crime|Drama"
        ],
        [
         108,
         "If Lucy Fell (1996)",
         "Comedy|Romance"
        ],
        [
         109,
         "\"Steal Big Steal Little (1995)\"",
         "Comedy"
        ],
        [
         110,
         "\"Boys of St. Vincent The (1992)\"",
         "Drama"
        ],
        [
         111,
         "Boomerang (1992)",
         "Comedy|Romance"
        ],
        [
         112,
         "Chungking Express (Chung Hing sam lam) (1994)",
         "Drama|Mystery|Romance"
        ]
       ],
       "datasetInfos": [],
       "dbfsResultPath": null,
       "isJsonSchema": true,
       "metadata": {},
       "overflow": false,
       "plotOptions": {
        "customPlotOptions": {},
        "displayType": "table",
        "pivotAggregation": null,
        "pivotColumns": null,
        "xColumns": null,
        "yColumns": null
       },
       "removedWidgets": [],
       "schema": [
        {
         "metadata": "{}",
         "name": "ID",
         "type": "\"integer\""
        },
        {
         "metadata": "{}",
         "name": "Title",
         "type": "\"string\""
        },
        {
         "metadata": "{}",
         "name": "Genres",
         "type": "\"string\""
        }
       ],
       "type": "table"
      }
     },
     "output_type": "display_data"
    }
   ],
   "source": [
    "display(cars_df)\n",
    "display(countries_df)\n",
    "display(movies_df)\n"
   ]
  },
  {
   "cell_type": "code",
   "execution_count": 0,
   "metadata": {
    "application/vnd.databricks.v1+cell": {
     "cellMetadata": {
      "byteLimit": 2048000,
      "rowLimit": 10000
     },
     "inputWidgets": {},
     "nuid": "3e80eb96-ce41-4015-bee8-054795349373",
     "showTitle": true,
     "title": "Handle Missing Values"
    }
   },
   "outputs": [],
   "source": [
    "# Drop rows with nulls in critical columns\n",
    "cleaned_cars_df = cars_df.na.drop(subset=[\"Name\", \"Model\"])\n",
    "cleaned_movies_df = movies_df.na.drop(subset=[\"Title\", \"Genres\"])\n",
    "\n",
    "cleaned_countries_df = countries_df.na.drop(subset=[\"Name\"])\n"
   ]
  },
  {
   "cell_type": "code",
   "execution_count": 0,
   "metadata": {
    "application/vnd.databricks.v1+cell": {
     "cellMetadata": {
      "byteLimit": 2048000,
      "rowLimit": 10000
     },
     "inputWidgets": {},
     "nuid": "52ab43ce-1286-46cc-bcae-7446ff3d12a5",
     "showTitle": true,
     "title": "Fill Missing Values with Default Values"
    }
   },
   "outputs": [],
   "source": [
    "# Fill missing 'Length' with 0\n",
    "cars_df = cars_df.na.fill({'Length': 0})\n",
    "\n",
    "# Fill missing 'Genres' with 'Unknown'\n",
    "movies_df = movies_df.na.fill({'Genres': 'Unknown'})\n",
    "\n",
    "# Fill missing 'Name' in Countries with 'Unknown'\n",
    "countries_df = countries_df.na.fill({'Name': 'Unknown'})\n"
   ]
  },
  {
   "cell_type": "code",
   "execution_count": 0,
   "metadata": {
    "application/vnd.databricks.v1+cell": {
     "cellMetadata": {
      "byteLimit": 2048000,
      "rowLimit": 10000
     },
     "inputWidgets": {},
     "nuid": "90386a6e-51f4-46a4-9b90-e68528d231a2",
     "showTitle": true,
     "title": "Data Type Casting"
    }
   },
   "outputs": [],
   "source": [
    "# Cast Length to integer type if it's not already\n",
    "cars_df = cars_df.withColumn(\"Length\", cars_df[\"Length\"].cast(\"int\"))\n"
   ]
  },
  {
   "cell_type": "code",
   "execution_count": 0,
   "metadata": {
    "application/vnd.databricks.v1+cell": {
     "cellMetadata": {
      "byteLimit": 2048000,
      "rowLimit": 10000
     },
     "inputWidgets": {},
     "nuid": "368de8fb-ca11-43cc-bb14-19fdd88dc476",
     "showTitle": true,
     "title": "Remove Duplicates"
    }
   },
   "outputs": [],
   "source": [
    "# Remove duplicates from cars_df based on 'Name' and 'Model'\n",
    "cars_df = cars_df.dropDuplicates([\"Name\", \"Model\"])\n",
    "\n",
    "# Remove duplicates from movies_df based on 'Title'\n",
    "movies_df = movies_df.dropDuplicates([\"Title\"])\n"
   ]
  },
  {
   "cell_type": "code",
   "execution_count": 0,
   "metadata": {
    "application/vnd.databricks.v1+cell": {
     "cellMetadata": {
      "byteLimit": 2048000,
      "rowLimit": 10000
     },
     "inputWidgets": {},
     "nuid": "d2d6b232-aecd-443e-b47d-e629bbbe588c",
     "showTitle": true,
     "title": "Column Renaming"
    }
   },
   "outputs": [],
   "source": [
    "# Rename 'ID' to 'Car_ID' in cars_df for clarity\n",
    "cars_df = cars_df.withColumnRenamed(\"ID\", \"Car_ID\")\n",
    "\n",
    "# Rename 'ID' to 'Country_ID' in countries_df\n",
    "countries_df = countries_df.withColumnRenamed(\"ID\", \"Country_ID\")\n",
    "\n",
    "# Rename 'ID' to 'Movie_ID' in movies_df\n",
    "movies_df = movies_df.withColumnRenamed(\"ID\", \"Movie_ID\")\n"
   ]
  },
  {
   "cell_type": "code",
   "execution_count": 0,
   "metadata": {
    "application/vnd.databricks.v1+cell": {
     "cellMetadata": {
      "byteLimit": 2048000,
      "rowLimit": 10000
     },
     "inputWidgets": {},
     "nuid": "e295e9f3-be30-44ee-b4c2-c29e73e989c7",
     "showTitle": true,
     "title": "Filter Data"
    }
   },
   "outputs": [],
   "source": [
    "# Filter out cars with Length equal to 0\n",
    "filtered_cars_df = cars_df.filter(cars_df[\"Length\"] > 0)\n",
    "\n",
    "# Filter out movies with no genre\n",
    "filtered_movies_df = movies_df.filter(movies_df[\"Genres\"] != 'Unknown')\n"
   ]
  },
  {
   "cell_type": "code",
   "execution_count": 0,
   "metadata": {
    "application/vnd.databricks.v1+cell": {
     "cellMetadata": {
      "byteLimit": 2048000,
      "rowLimit": 10000
     },
     "inputWidgets": {},
     "nuid": "802637e8-8ab2-4488-bd05-6c75adda7f09",
     "showTitle": true,
     "title": "Add New Columns"
    }
   },
   "outputs": [],
   "source": [
    "from pyspark.sql.functions import when\n",
    "\n",
    "# Add a column for car weight category\n",
    "cars_df = cars_df.withColumn(\n",
    "    \"Weight_Category\", \n",
    "    when(cars_df[\"Length\"] > 4000, \"Heavy\").otherwise(\"Light\")\n",
    ")\n"
   ]
  },
  {
   "cell_type": "code",
   "execution_count": 0,
   "metadata": {
    "application/vnd.databricks.v1+cell": {
     "cellMetadata": {
      "byteLimit": 2048000,
      "rowLimit": 10000
     },
     "inputWidgets": {},
     "nuid": "1b8d1a04-c2fc-4b2f-a9b2-1d3f6081a137",
     "showTitle": true,
     "title": "String Transformations"
    }
   },
   "outputs": [],
   "source": [
    "from pyspark.sql.functions import upper\n",
    "\n",
    "# Convert movie titles to uppercase\n",
    "movies_df = movies_df.withColumn(\"Title\", upper(movies_df[\"Title\"]))\n",
    "\n",
    "# Trim extra spaces from the Name column in cars\n",
    "from pyspark.sql.functions import trim\n",
    "\n",
    "cars_df = cars_df.withColumn(\"Name\", trim(cars_df[\"Name\"]))\n"
   ]
  },
  {
   "cell_type": "code",
   "execution_count": 0,
   "metadata": {
    "application/vnd.databricks.v1+cell": {
     "cellMetadata": {
      "byteLimit": 2048000,
      "rowLimit": 10000
     },
     "inputWidgets": {},
     "nuid": "246d755f-e087-437a-b1b7-cf8de1af72ea",
     "showTitle": true,
     "title": "Join Aggregate and Group Data Tables"
    }
   },
   "outputs": [],
   "source": [
    "from pyspark.sql.functions import count\n",
    "\n",
    "# Count the number of cars for each brand\n",
    "car_count_by_brand = cars_df.groupBy(\"Name\").agg(count(\"Car_ID\").alias(\"Car_Count\"))\n"
   ]
  },
  {
   "cell_type": "code",
   "execution_count": 0,
   "metadata": {
    "application/vnd.databricks.v1+cell": {
     "cellMetadata": {
      "byteLimit": 2048000,
      "rowLimit": 10000
     },
     "inputWidgets": {},
     "nuid": "b15f2b13-437f-4c19-b39d-16eb41674e39",
     "showTitle": false,
     "title": ""
    }
   },
   "outputs": [],
   "source": [
    "cars_df.repartition(1).write.mode(\"overwrite\").option(\"header\", \"true\").csv(\"dbfs:/mnt/exporteddatast/output/cars\")\n"
   ]
  }
 ],
 "metadata": {
  "application/vnd.databricks.v1+notebook": {
   "dashboards": [],
   "environmentMetadata": {
    "base_environment": "",
    "client": "1"
   },
   "language": "python",
   "notebookMetadata": {
    "mostRecentlyExecutedCommandWithImplicitDF": {
     "commandId": 1256650243121560,
     "dataframes": [
      "_sqldf"
     ]
    },
    "pythonIndentUnit": 4
   },
   "notebookName": "DATA TRANSFORMATION",
   "widgets": {}
  }
 },
 "nbformat": 4,
 "nbformat_minor": 0
}
